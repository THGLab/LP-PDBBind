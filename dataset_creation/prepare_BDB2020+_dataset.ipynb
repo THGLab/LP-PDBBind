{
 "cells": [
  {
   "cell_type": "code",
   "execution_count": 1,
   "metadata": {},
   "outputs": [],
   "source": [
    "from Bio import PDB\n",
    "from Bio.PDB import PDBIO, Select\n",
    "import pandas as pd\n",
    "from copy import copy\n",
    "\n",
    "parser = PDB.PDBParser(QUIET=True)"
   ]
  },
  {
   "cell_type": "code",
   "execution_count": 2,
   "metadata": {},
   "outputs": [],
   "source": [
    "from rdkit import Chem\n",
    "from rdkit.Chem import Draw\n",
    "from rdkit.Chem import AllChem\n",
    "from rdkit.Chem.AllChem import Compute2DCoords\n",
    "\n",
    "import numpy as np\n",
    "import subprocess\n",
    "import shutil\n",
    "import os"
   ]
  },
  {
   "cell_type": "code",
   "execution_count": 3,
   "metadata": {},
   "outputs": [],
   "source": [
    "from Bio import Align\n",
    "from Bio.SubsMat import MatrixInfo as matlist\n",
    "import numpy as np\n",
    "from tqdm import tqdm\n",
    "from Bio.PDB.StructureBuilder import StructureBuilder\n",
    "\n",
    "def Needleman_Wunsch_alignment(seq1,seq2):\n",
    "    '''\n",
    "    Function for doing global alignment between seq1 and seq2 using Needleman-Wunsch algorithm implemented in Biopython\n",
    "    '''\n",
    "    missing=None\n",
    "    if \"-\" in seq1:\n",
    "        # Need to handle \"-\" beforehand, otherwise the alignment may fail\n",
    "        missing=[s==\"-\" for s in seq1]\n",
    "        seq1=seq1.replace(\"-\",\"\")\n",
    "    aligner=Align.PairwiseAligner()\n",
    "    aligner.open_gap_score=-10\n",
    "    aligner.extend_gap_score=-0.5\n",
    "    aligner.substitution_matrix=matlist.blosum62\n",
    "    alignment=aligner.align(seq1,seq2)[0]\n",
    "    alignment_info=alignment.__str__().split(\"\\n\")\n",
    "    aligned1,aligned2=alignment_info[0],alignment_info[2]\n",
    "    if missing is None:\n",
    "        final1=aligned1\n",
    "        final2=aligned2\n",
    "    else:\n",
    "        # Assign alignment with \"-\"\n",
    "        final1_temp=\"\"\n",
    "        final2_temp=\"\"\n",
    "        j=0\n",
    "        for s in missing:\n",
    "            if s:\n",
    "                final1_temp+=\"-\"\n",
    "                final2_temp+=\"-\"\n",
    "            else:\n",
    "                while aligned1[j]==\"-\" and j<len(aligned1):\n",
    "                    final1_temp+=aligned1[j]\n",
    "                    final2_temp+=aligned2[j]\n",
    "                    j+=1\n",
    "                if j<len(aligned1):\n",
    "                    final1_temp+=aligned1[j]\n",
    "                    final2_temp+=aligned2[j]\n",
    "                    j+=1\n",
    "        if j<len(aligned1):\n",
    "            final1_temp+=aligned1[j:]\n",
    "            final2_temp+=aligned2[j:]\n",
    "        # Cleaning up\n",
    "        final1=\"\"\n",
    "        final2=\"\"\n",
    "        for i in range(len(final1_temp)):\n",
    "            if not (final1_temp[i]==\"-\" and final2_temp[i]==\"-\"):\n",
    "                final1+=final1_temp[i]\n",
    "                final2+=final2_temp[i]\n",
    "    return final1,final2\n",
    "\n",
    "        \n",
    "def calc_seq_align_identity(seq1,seq2):\n",
    "    if seq1 in seq2 or seq2 in seq1:\n",
    "        return 1\n",
    "    aseq1,aseq2=Needleman_Wunsch_alignment(seq1,seq2)\n",
    "    assert len(aseq1)==len(aseq2)\n",
    "    while aseq1[0]==\"-\" or aseq2[0]==\"-\":\n",
    "        aseq1=aseq1[1:]\n",
    "        aseq2=aseq2[1:]\n",
    "    while aseq1[-1]==\"-\" or aseq2[-1]==\"-\":\n",
    "        aseq1=aseq1[:-1]\n",
    "        aseq2=aseq2[:-1]\n",
    "\n",
    "    same_count = 0\n",
    "    aligned_count = 0\n",
    "    for i in range(len(aseq1)):\n",
    "        if aseq1[i]==\"-\" or aseq2[i]==\"-\":\n",
    "            continue\n",
    "        aligned_count+=1\n",
    "        if aseq1[i]==aseq2[i]:\n",
    "            same_count+=1\n",
    "    if aligned_count / len(aseq1) < 0.6:\n",
    "        return -1\n",
    "        \n",
    "    \n",
    "    return same_count/aligned_count\n",
    "\n",
    "def get_min_dist_between_lig_and_chain(ligand, chain):\n",
    "    ligand_coords = ligand.GetConformer().GetPositions()\n",
    "    chain_CA_coords = np.array([res[\"CA\"].get_coord() for res in chain if PDB.Polypeptide.is_aa(res)])\n",
    "    # minimum distance between ligand and chain\n",
    "    min_dist = np.min(np.linalg.norm(ligand_coords[:, None, :] - chain_CA_coords[None, :, :], axis=-1))\n",
    "    return min_dist\n",
    "\n",
    "\n",
    "class AAOnly(Select):\n",
    "    def accept_residue(self, residue):\n",
    "        return PDB.Polypeptide.is_aa(residue)\n",
    "    \n",
    "    def accept_atom(self, atom):\n",
    "        if not atom.is_disordered() or atom.get_altloc() == \"A\":\n",
    "            atom.set_altloc(\" \")\n",
    "            return True\n",
    "        return False\n",
    "\n",
    "class AltlocSelect(Select):\n",
    "    \n",
    "    def accept_atom(self, atom):\n",
    "        if not atom.is_disordered() or atom.get_altloc() == 'A':\n",
    "            return True\n",
    "        return False\n",
    "    \n",
    "\n",
    "\n",
    "\n",
    "def save_multiple_chains(list_of_chains, save_addr, selector=None):\n",
    "    sb = StructureBuilder()\n",
    "    sb.init_structure(\"pdb\")\n",
    "    sb.init_seg(\" \")\n",
    "    sb.init_model(0)\n",
    "    \n",
    "    for chain in list_of_chains:\n",
    "        sb.structure[0].add(chain)\n",
    "\n",
    "    io = PDB.PDBIO()\n",
    "    io.set_structure(sb.structure)\n",
    "    io.save(save_addr, select=selector)\n",
    "\n",
    "\n",
    "def write_alignment(seq1, seq2, out_file):\n",
    "    aseq1, aseq2 = Needleman_Wunsch_alignment(seq1, seq2)\n",
    "    seq1_line = \"\"\n",
    "    seq2_line = \"\"\n",
    "    final_lines = []\n",
    "    for i in range(len(aseq1)):\n",
    "        if i % 150 == 0:\n",
    "            final_lines.append(seq1_line + \"\\n\")\n",
    "            final_lines.append(seq2_line + \"\\n\")\n",
    "            final_lines.append(\"\\n\")\n",
    "            seq1_line = \"\"\n",
    "            seq2_line = \"\"\n",
    "        if aseq1[i] == \"-\" or aseq2[i] == \"-\":\n",
    "            seq1_line += aseq1[i]\n",
    "            seq2_line += aseq2[i]\n",
    "        elif aseq1[i] == aseq2[i]:\n",
    "            seq1_line += aseq1[i]\n",
    "            seq2_line += aseq2[i]\n",
    "        else:\n",
    "            seq1_line += '\\033[31m' + aseq1[i] + '\\033[0m'\n",
    "            seq2_line += '\\033[31m' + aseq2[i] + '\\033[0m'\n",
    "    \n",
    "    with open(out_file, \"w\") as f:\n",
    "        f.writelines(final_lines)\n"
   ]
  },
  {
   "cell_type": "code",
   "execution_count": 4,
   "metadata": {},
   "outputs": [],
   "source": [
    "\n",
    "ignored_list = [\"HOH\", \"PO4\"]\n",
    "min_dist_threshold = 5"
   ]
  },
  {
   "cell_type": "code",
   "execution_count": 5,
   "metadata": {},
   "outputs": [],
   "source": [
    "df=pd.read_csv(\"prepared.csv\",index_col=0)"
   ]
  },
  {
   "cell_type": "code",
   "execution_count": 6,
   "metadata": {},
   "outputs": [
    {
     "data": {
      "text/html": [
       "<div>\n",
       "<style scoped>\n",
       "    .dataframe tbody tr th:only-of-type {\n",
       "        vertical-align: middle;\n",
       "    }\n",
       "\n",
       "    .dataframe tbody tr th {\n",
       "        vertical-align: top;\n",
       "    }\n",
       "\n",
       "    .dataframe thead th {\n",
       "        text-align: right;\n",
       "    }\n",
       "</style>\n",
       "<table border=\"1\" class=\"dataframe\">\n",
       "  <thead>\n",
       "    <tr style=\"text-align: right;\">\n",
       "      <th></th>\n",
       "      <th>value</th>\n",
       "      <th>smiles</th>\n",
       "      <th>seq</th>\n",
       "    </tr>\n",
       "    <tr>\n",
       "      <th>pdbid</th>\n",
       "      <th></th>\n",
       "      <th></th>\n",
       "      <th></th>\n",
       "    </tr>\n",
       "  </thead>\n",
       "  <tbody>\n",
       "    <tr>\n",
       "      <th>6TRX</th>\n",
       "      <td>14</td>\n",
       "      <td>NC(CC(=O)N1CCN(CC1)C(c1ccc(F)cc1)c1ccc(F)cc1)C...</td>\n",
       "      <td>MWKRSEQMKIKSGKCNMAAAMETEQLGVEIFETADCEENIESQDRP...</td>\n",
       "    </tr>\n",
       "    <tr>\n",
       "      <th>7LQZ</th>\n",
       "      <td>65</td>\n",
       "      <td>COc1cc(CC(=O)OCC2=C[C@H]3[C@H]4OC5(Cc6ccccc6)O...</td>\n",
       "      <td>MKKWSSTDLGAAADPLQKDTCPDPLDGDPNSRPPPAKPQLSTAKSR...</td>\n",
       "    </tr>\n",
       "    <tr>\n",
       "      <th>7T6S</th>\n",
       "      <td>44</td>\n",
       "      <td>CC(C)c1c(NC(=O)Nc2ccc(Cl)cc2)c(=O)n(-c2ccccc2)n1C</td>\n",
       "      <td>METNFSTPLNEYEEVSYESAGYTVLRILPLVVLGVTFVLGVLGNGL...</td>\n",
       "    </tr>\n",
       "    <tr>\n",
       "      <th>7SHV</th>\n",
       "      <td>0.13</td>\n",
       "      <td>OCCn1cc(c(n1)-c1ccncc1)-c1ccc2C(CCc2c1)N=O</td>\n",
       "      <td>MAALSGGGGGGAEPGQALFNGDMEPEAGAGAGAAASSAADPAIPEE...</td>\n",
       "    </tr>\n",
       "    <tr>\n",
       "      <th>6LR4</th>\n",
       "      <td>28</td>\n",
       "      <td>CC(C)[C@H](O)C(=O)N[C@@H](C)C(=O)N[C@H]1c2cccc...</td>\n",
       "      <td>MTELPAPLSYFQNAQMSEDNHLSNTVRSQNDNRERQEHNDRRSLGH...</td>\n",
       "    </tr>\n",
       "    <tr>\n",
       "      <th>...</th>\n",
       "      <td>...</td>\n",
       "      <td>...</td>\n",
       "      <td>...</td>\n",
       "    </tr>\n",
       "    <tr>\n",
       "      <th>7LR0</th>\n",
       "      <td>20</td>\n",
       "      <td>COc1cc(CNC(=O)CCCC\\C=C\\C(C)C)ccc1O</td>\n",
       "      <td>MKKWSSTDLGAAADPLQKDTCPDPLDGDPNSRPPPAKPQLSTAKSR...</td>\n",
       "    </tr>\n",
       "    <tr>\n",
       "      <th>7EW2</th>\n",
       "      <td>5.9</td>\n",
       "      <td>CCCCCCCCc1ccc(CC[C@](N)(CO)COP(O)(O)=O)cc1</td>\n",
       "      <td>MATALPPRLQPVRGNETLREHYQYVGKLAGRLKEASEGSTLTTVLF...</td>\n",
       "    </tr>\n",
       "    <tr>\n",
       "      <th>5SIJ</th>\n",
       "      <td>1.8</td>\n",
       "      <td>Cc1cnc(C)c2nc(CCc3nc(cn3C)-c3ccccc3)nn12</td>\n",
       "      <td>MRIEERKSQHLTGLTDEKVKAYLSLHPQVLDEFVSESVSAETVEKW...</td>\n",
       "    </tr>\n",
       "    <tr>\n",
       "      <th>7NA4</th>\n",
       "      <td>3</td>\n",
       "      <td>CCOC(C1CC1)c1nc2cc(nc(-c3cncc(Cl)c3)c2n1C(C)[C...</td>\n",
       "      <td>MCNTNMSVPTDGAVTTSQIPASEQETLVRPKPLLLKLLKSVGAQKD...</td>\n",
       "    </tr>\n",
       "    <tr>\n",
       "      <th>7X2D</th>\n",
       "      <td>8.54</td>\n",
       "      <td>Cc1cc(Oc2ncccc2C(F)(F)F)ccc1-c1c(C)c(=O)[nH]c(...</td>\n",
       "      <td>MRTLNTSAMDGTGLVVERDFSVRILTACFLSLLILSTLLGNTLVCA...</td>\n",
       "    </tr>\n",
       "  </tbody>\n",
       "</table>\n",
       "<p>139 rows × 3 columns</p>\n",
       "</div>"
      ],
      "text/plain": [
       "      value                                             smiles  \\\n",
       "pdbid                                                            \n",
       "6TRX     14  NC(CC(=O)N1CCN(CC1)C(c1ccc(F)cc1)c1ccc(F)cc1)C...   \n",
       "7LQZ     65  COc1cc(CC(=O)OCC2=C[C@H]3[C@H]4OC5(Cc6ccccc6)O...   \n",
       "7T6S     44  CC(C)c1c(NC(=O)Nc2ccc(Cl)cc2)c(=O)n(-c2ccccc2)n1C   \n",
       "7SHV   0.13         OCCn1cc(c(n1)-c1ccncc1)-c1ccc2C(CCc2c1)N=O   \n",
       "6LR4     28  CC(C)[C@H](O)C(=O)N[C@@H](C)C(=O)N[C@H]1c2cccc...   \n",
       "...     ...                                                ...   \n",
       "7LR0     20                 COc1cc(CNC(=O)CCCC\\C=C\\C(C)C)ccc1O   \n",
       "7EW2    5.9         CCCCCCCCc1ccc(CC[C@](N)(CO)COP(O)(O)=O)cc1   \n",
       "5SIJ    1.8           Cc1cnc(C)c2nc(CCc3nc(cn3C)-c3ccccc3)nn12   \n",
       "7NA4      3  CCOC(C1CC1)c1nc2cc(nc(-c3cncc(Cl)c3)c2n1C(C)[C...   \n",
       "7X2D   8.54  Cc1cc(Oc2ncccc2C(F)(F)F)ccc1-c1c(C)c(=O)[nH]c(...   \n",
       "\n",
       "                                                     seq  \n",
       "pdbid                                                     \n",
       "6TRX   MWKRSEQMKIKSGKCNMAAAMETEQLGVEIFETADCEENIESQDRP...  \n",
       "7LQZ   MKKWSSTDLGAAADPLQKDTCPDPLDGDPNSRPPPAKPQLSTAKSR...  \n",
       "7T6S   METNFSTPLNEYEEVSYESAGYTVLRILPLVVLGVTFVLGVLGNGL...  \n",
       "7SHV   MAALSGGGGGGAEPGQALFNGDMEPEAGAGAGAAASSAADPAIPEE...  \n",
       "6LR4   MTELPAPLSYFQNAQMSEDNHLSNTVRSQNDNRERQEHNDRRSLGH...  \n",
       "...                                                  ...  \n",
       "7LR0   MKKWSSTDLGAAADPLQKDTCPDPLDGDPNSRPPPAKPQLSTAKSR...  \n",
       "7EW2   MATALPPRLQPVRGNETLREHYQYVGKLAGRLKEASEGSTLTTVLF...  \n",
       "5SIJ   MRIEERKSQHLTGLTDEKVKAYLSLHPQVLDEFVSESVSAETVEKW...  \n",
       "7NA4   MCNTNMSVPTDGAVTTSQIPASEQETLVRPKPLLLKLLKSVGAQKD...  \n",
       "7X2D   MRTLNTSAMDGTGLVVERDFSVRILTACFLSLLILSTLLGNTLVCA...  \n",
       "\n",
       "[139 rows x 3 columns]"
      ]
     },
     "execution_count": 6,
     "metadata": {},
     "output_type": "execute_result"
    }
   ],
   "source": [
    "df"
   ]
  },
  {
   "cell_type": "code",
   "execution_count": 7,
   "metadata": {},
   "outputs": [
    {
     "ename": "FileExistsError",
     "evalue": "[Errno 17] File exists: 'dataset'",
     "output_type": "error",
     "traceback": [
      "\u001b[0;31m---------------------------------------------------------------------------\u001b[0m",
      "\u001b[0;31mFileExistsError\u001b[0m                           Traceback (most recent call last)",
      "\u001b[0;32m<ipython-input-7-386c4e5a350a>\u001b[0m in \u001b[0;36m<module>\u001b[0;34m\u001b[0m\n\u001b[1;32m      1\u001b[0m \u001b[0;32mimport\u001b[0m \u001b[0mos\u001b[0m\u001b[0;34m\u001b[0m\u001b[0;34m\u001b[0m\u001b[0m\n\u001b[0;32m----> 2\u001b[0;31m \u001b[0mos\u001b[0m\u001b[0;34m.\u001b[0m\u001b[0mmkdir\u001b[0m\u001b[0;34m(\u001b[0m\u001b[0;34m\"dataset\"\u001b[0m\u001b[0;34m)\u001b[0m\u001b[0;34m\u001b[0m\u001b[0;34m\u001b[0m\u001b[0m\n\u001b[0m",
      "\u001b[0;31mFileExistsError\u001b[0m: [Errno 17] File exists: 'dataset'"
     ]
    }
   ],
   "source": [
    "import os\n",
    "os.mkdir(\"dataset\")"
   ]
  },
  {
   "cell_type": "code",
   "execution_count": 8,
   "metadata": {},
   "outputs": [],
   "source": [
    "import urllib\n",
    "\n",
    "def get_pdb(pdbid):\n",
    "    pdbl = PDB.PDBList()\n",
    "    pdbl.retrieve_pdb_file(pdbid, pdir=f\"dataset/{pdbid}\", file_format=\"pdb\")\n",
    "    if not os.path.exists(f\"dataset/{pdbid}/pdb{pdbid.lower()}.ent\"):\n",
    "        print(\"Download and convert .cif file\")\n",
    "        os.makedirs(f\"dataset/{pdbid}_IP\", exist_ok=True)\n",
    "        # use urlretrieve to get the .cif file\n",
    "        url = f\"https://files.rcsb.org/download/{pdbid}.cif\"\n",
    "        urllib.request.urlretrieve(url, f\"dataset/{pdbid}_IP/{pdbid}.cif\")\n",
    "\n",
    "        # convert .cif to .pdb\n",
    "        subprocess.run([\"obabel\", f\"dataset/{pdbid}_IP/{pdbid}.cif\", \"-O\", f\"dataset/{pdbid}/pdb{pdbid.lower()}.ent\"])\n"
   ]
  },
  {
   "cell_type": "code",
   "execution_count": 9,
   "metadata": {},
   "outputs": [],
   "source": [
    "def process_pdb(pdbid, maximum_chain_dist=min_dist_threshold):\n",
    "    get_pdb(pdbid)\n",
    "    struc=parser.get_structure(pdbid, f\"dataset/{pdbid}/pdb{pdbid.lower()}.ent\")\n",
    "\n",
    "    os.makedirs(f\"dataset/{pdbid}_IP\", exist_ok=True)\n",
    "    # get chain sequences\n",
    "    seqs={}\n",
    "    for chain in struc[0].child_dict.values():\n",
    "        seqs[chain.id]=\"\".join([PDB.Polypeptide.three_to_one(res.get_resname()) for res in chain.get_residues() if PDB.Polypeptide.is_aa(res, standard=True)])\n",
    "\n",
    "    \n",
    "    # get ligand from pdb\n",
    "    interesting_ligand_id = 0\n",
    "    for residue in struc[0].get_residues():\n",
    "        if not PDB.Polypeptide.is_aa(residue, standard=True):\n",
    "            print(residue.get_resname())\n",
    "            if residue.get_resname() not in ignored_list and len(residue.child_list) > 1:\n",
    "                copied_residue = residue.copy()\n",
    "                # save residue as ligand\n",
    "                try:\n",
    "                    io = PDB.PDBIO()\n",
    "                    io.set_structure(residue)\n",
    "                    io.save(f\"dataset/{pdbid}_IP/lig_{interesting_ligand_id}.pdb\", AltlocSelect())\n",
    "                except:\n",
    "                    io = PDB.PDBIO()\n",
    "                    io.set_structure(copied_residue)\n",
    "                    io.save(f\"dataset/{pdbid}_IP/lig_{interesting_ligand_id}.pdb\")\n",
    "                subprocess.call([\"obabel\", f\"dataset/{pdbid}_IP/lig_{interesting_ligand_id}.pdb\", \"-O\", f\"dataset/{pdbid}_IP/lig_{interesting_ligand_id}.sdf\"])\n",
    "                interesting_ligand_id += 1\n",
    "\n",
    "    ligands = []\n",
    "    for i in range(interesting_ligand_id):\n",
    "        mol = Chem.MolFromMolFile(f\"dataset/{pdbid}_IP/lig_{i}.sdf\", sanitize=False)\n",
    "        mol_noH = Chem.RemoveHs(mol, sanitize=False)\n",
    "        Chem.rdmolops.SanitizeMol(mol_noH, 268435455-2)\n",
    "        ligands.append(mol_noH)\n",
    "\n",
    "    if len(ligands) == 0:\n",
    "        print(f\"Warning! No ligands found for {pdbid}!\")\n",
    "        return None\n",
    "\n",
    "    ref_mol=Chem.MolFromSmiles(df.loc[pdbid][\"smiles\"])\n",
    "    ref_mol_fp=AllChem.GetMorganFingerprintAsBitVect(ref_mol,2,nBits=1024)\n",
    "\n",
    "    # get all similarities\n",
    "    similarity = [Chem.DataStructs.DiceSimilarity(ref_mol_fp, AllChem.GetMorganFingerprintAsBitVect(ligand, 2,nBits=1024)) for ligand in ligands]\n",
    "    chosen_ligand_idx = np.argmax(similarity)\n",
    "    chosen_ligand = Chem.RemoveHs(ligands[chosen_ligand_idx], sanitize=False)\n",
    "\n",
    "    if chosen_ligand.GetNumAtoms() != ref_mol.GetNumAtoms():\n",
    "        print(f\"Warning! Best matched ligand has different number of heavy atoms for {pdbid}!\")\n",
    "        return chosen_ligand, ref_mol\n",
    "\n",
    "    fixed_ligand = AllChem.AssignBondOrdersFromTemplate(ref_mol, chosen_ligand)\n",
    "    Chem.MolToMolFile(fixed_ligand, f\"dataset/{pdbid}/ligand.sdf\")\n",
    "\n",
    "    # if similarity[chosen_ligand_idx] < 0.8:\n",
    "    #     print(f\"Warning! Best matched ligand is not similar for {pdbid}!\")\n",
    "    #     titles = [\"ref_mol\"] + [f\"ligand_{i}\" + (\"(selected)\" if i == chosen_ligand_idx else \"\")\\\n",
    "    #                              for i in range(len(ligands))]\n",
    "    #     proc_ligs = []\n",
    "    #     for lig in ligands:\n",
    "    #         copied_lig = copy(lig)\n",
    "    #         AllChem.Compute2DCoords(copied_lig)\n",
    "    #         proc_ligs.append(Chem.RemoveHs(copied_lig,sanitize=False))\n",
    "    #         img = Draw.MolsToGridImage([ref_mol] + proc_ligs, legends=titles, molsPerRow=5, subImgSize=(300,300))\n",
    "    #     img.save(f\"dataset/{pdbid}/alternative_ligands.png\")\n",
    "    \n",
    "    # chosen_ligand_idx = np.argmax(similarity)\n",
    "\n",
    "    ref_chain_seq = df.loc[pdbid][\"seq\"]\n",
    "    seq_sims = {}\n",
    "    for chain_id in seqs:\n",
    "        seq_sims[chain_id] = calc_seq_align_identity(ref_chain_seq, seqs[chain_id])\n",
    "\n",
    "\n",
    "    satisfied_chains = []\n",
    "    satisfied_chain_sims = []\n",
    "    for seqid in seqs:\n",
    "        if len(seqs[seqid]) == 0:\n",
    "            continue\n",
    "        min_dist = get_min_dist_between_lig_and_chain(fixed_ligand, struc[0][seqid])\n",
    "        print(\"chain\", seqid, \"min_dist\", min_dist)\n",
    "        if min_dist > maximum_chain_dist:\n",
    "            continue\n",
    "        satisfied_chains.append(seqid)\n",
    "        satisfied_chain_sims.append(seq_sims[seqid])\n",
    "\n",
    "    \n",
    "    if len(satisfied_chains) == 0:\n",
    "        print(f\"Warning! No chains near ligand of interest for {pdbid}!\")\n",
    "        return None\n",
    "    \n",
    "    if max(seq_sims.values()) != 1:\n",
    "        max_seq_sim_id = max(seq_sims, key=seq_sims.get)\n",
    "        print(f\"Warning! Dissimilar chain for {pdbid} ({seq_sims[max_seq_sim_id]})!\")\n",
    "        \n",
    "        write_alignment(ref_chain_seq, seqs[max_seq_sim_id], f\"dataset/{pdbid}/seq_alignment.txt\")\n",
    "        # return ref_chain_seq, seqs, satisfied_chains\n",
    "    \n",
    "    if max(satisfied_chain_sims) != 1:\n",
    "        print(f\"Warning! Matched sequence not in contact with ligand for {pdbid}!\")\n",
    "    \n",
    "    save_multiple_chains([struc[0][chain_id] for chain_id in satisfied_chains], \\\n",
    "                          f\"dataset/{pdbid}/protein.pdb\", AAOnly())\n",
    "    \n",
    "    # shutil.move(f\"dataset/{pdbid}_IP/lig_{chosen_ligand_idx}.sdf\", f\"dataset/{pdbid}/ligand.sdf\")\n",
    "    shutil.move(f\"dataset/{pdbid}_IP/lig_{chosen_ligand_idx}.pdb\", f\"dataset/{pdbid}/ligand.pdb\")\n",
    "    shutil.rmtree(f\"dataset/{pdbid}_IP\")\n",
    "\n"
   ]
  },
  {
   "cell_type": "code",
   "execution_count": 40,
   "metadata": {},
   "outputs": [
    {
     "name": "stdout",
     "output_type": "stream",
     "text": [
      "Structure exists: 'dataset/6TRX/pdb6trx.ent' \n",
      "Structure exists: 'dataset/7LQZ/pdb7lqz.ent' \n",
      "Warning! Dissimilar chain for 7LQZ (0.9461538461538461)!\n",
      "Warning! Matched sequence not in contact with ligand for 7LQZ!\n",
      "Structure exists: 'dataset/7T6S/pdb7t6s.ent' \n",
      "Structure exists: 'dataset/7SHV/pdb7shv.ent' \n",
      "Structure exists: 'dataset/6LR4/pdb6lr4.ent' \n",
      "Structure exists: 'dataset/7Y5T/pdb7y5t.ent' \n",
      "Structure exists: 'dataset/7DMC/pdb7dmc.ent' \n",
      "Structure exists: 'dataset/7B91/pdb7b91.ent' \n",
      "Warning! Matched sequence not in contact with ligand for 7B91!\n",
      "Structure exists: 'dataset/7QQ6/pdb7qq6.ent' \n",
      "Warning! Dissimilar chain for 7QQ6 (0.9963636363636363)!\n",
      "Warning! Matched sequence not in contact with ligand for 7QQ6!\n",
      "Structure exists: 'dataset/7X5H/pdb7x5h.ent' \n",
      "Warning! Dissimilar chain for 7X5H (0.9124087591240876)!\n",
      "Warning! Matched sequence not in contact with ligand for 7X5H!\n",
      "Structure exists: 'dataset/7XTB/pdb7xtb.ent' \n",
      "Structure exists: 'dataset/7QNE/pdb7qne.ent' \n",
      "Structure exists: 'dataset/7E9H/pdb7e9h.ent' \n",
      "Warning! No ligands found for 7E9H!\n",
      "Structure exists: 'dataset/7MU5/pdb7mu5.ent' \n",
      "Warning! No chains near ligand of interest for 7MU5!\n",
      "Structure exists: 'dataset/7EJ8/pdb7ej8.ent' \n",
      "Structure exists: 'dataset/7JVR/pdb7jvr.ent' \n",
      "Structure exists: 'dataset/7CX2/pdb7cx2.ent' \n",
      "Structure exists: 'dataset/7CMV/pdb7cmv.ent' \n",
      "Structure exists: 'dataset/7EJ0/pdb7ej0.ent' \n",
      "Structure exists: 'dataset/7EJK/pdb7ejk.ent' \n",
      "Structure exists: 'dataset/7CMU/pdb7cmu.ent' \n",
      "Structure exists: 'dataset/7DFL/pdb7dfl.ent' \n",
      "Structure exists: 'dataset/7F58/pdb7f58.ent' \n",
      "Structure exists: 'dataset/7XR6/pdb7xr6.ent' \n",
      "Structure exists: 'dataset/7SMZ/pdb7smz.ent' \n",
      "Warning! Dissimilar chain for 7SMZ (0.9245283018867925)!\n",
      "Warning! Matched sequence not in contact with ligand for 7SMZ!\n",
      "Structure exists: 'dataset/5SET/pdb5set.ent' \n",
      "Structure exists: 'dataset/5SE0/pdb5se0.ent' \n",
      "Structure exists: 'dataset/5SF4/pdb5sf4.ent' \n",
      "Downloading PDB structure '5SE1'...\n",
      "Downloading PDB structure '5SEW'...\n",
      "Downloading PDB structure '5SFU'...\n",
      "Downloading PDB structure '5SJS'...\n",
      "Downloading PDB structure '5SHD'...\n",
      "Downloading PDB structure '5SKV'...\n",
      "Downloading PDB structure '5SDZ'...\n",
      "Downloading PDB structure '5SJL'...\n",
      "Downloading PDB structure '5SE5'...\n",
      "Downloading PDB structure '5SFL'...\n",
      "Downloading PDB structure '5SKK'...\n",
      "Downloading PDB structure '8DOF'...\n",
      "Downloading PDB structure '5SFN'...\n",
      "Downloading PDB structure '5SF8'...\n",
      "Downloading PDB structure '5SGT'...\n",
      "Downloading PDB structure '7L5O'...\n",
      "Downloading PDB structure '7VSI'...\n",
      "Downloading PDB structure '7RJE'...\n",
      "Downloading PDB structure '6ZY5'...\n",
      "Downloading PDB structure '5SFH'...\n",
      "Downloading PDB structure '5SG6'...\n",
      "Downloading PDB structure '5SEB'...\n",
      "Downloading PDB structure '5SFT'...\n",
      "Downloading PDB structure '5SEJ'...\n",
      "Downloading PDB structure '5SEQ'...\n",
      "Downloading PDB structure '5SHT'...\n",
      "Downloading PDB structure '5SFD'...\n",
      "Downloading PDB structure '5SFW'...\n",
      "Downloading PDB structure '5SG1'...\n",
      "Downloading PDB structure '5SH9'...\n",
      "Downloading PDB structure '5SFS'...\n",
      "Downloading PDB structure '5SGX'...\n",
      "Downloading PDB structure '5SHA'...\n",
      "Downloading PDB structure '7WMV'...\n",
      "Warning! Best matched ligand has different number of heavy atoms for 7WMV!\n",
      "Downloading PDB structure '5SG9'...\n",
      "Downloading PDB structure '6LR9'...\n",
      "Downloading PDB structure '5SJG'...\n",
      "Downloading PDB structure '8EJB'...\n",
      "Downloading PDB structure '7OTY'...\n",
      "Downloading PDB structure '5SF6'...\n",
      "Downloading PDB structure '5SH3'...\n",
      "Downloading PDB structure '5SFB'...\n",
      "Downloading PDB structure '5SGN'...\n",
      "Downloading PDB structure '7N4S'...\n",
      "Downloading PDB structure '5SE2'...\n",
      "Downloading PDB structure '5SFF'...\n",
      "Downloading PDB structure '5SF1'...\n",
      "Downloading PDB structure '5SEM'...\n",
      "Downloading PDB structure '5SE9'...\n",
      "Downloading PDB structure '7KQJ'...\n",
      "Warning! Dissimilar chain for 7KQJ (-1)!\n",
      "Warning! Matched sequence not in contact with ligand for 7KQJ!\n",
      "Downloading PDB structure '7CA8'...\n",
      "Downloading PDB structure '7YGQ'...\n",
      "Warning! Matched sequence not in contact with ligand for 7YGQ!\n",
      "Downloading PDB structure '7T6B'...\n",
      "Downloading PDB structure '7EW3'...\n",
      "Downloading PDB structure '6WTN'...\n",
      "Downloading PDB structure '6VNE'...\n",
      "Downloading PDB structure '6XOG'...\n",
      "Warning! Matched sequence not in contact with ligand for 6XOG!\n",
      "Downloading PDB structure '6X0T'...\n",
      "Downloading PDB structure '7LMF'...\n",
      "Downloading PDB structure '7TEK'...\n",
      "Downloading PDB structure '7SLV'...\n",
      "Downloading PDB structure '7SLY'...\n",
      "Downloading PDB structure '7SLX'...\n",
      "Downloading PDB structure '6M2B'...\n",
      "Downloading PDB structure '7L11'...\n",
      "Downloading PDB structure '7L14'...\n",
      "Downloading PDB structure '7M8M'...\n",
      "Downloading PDB structure '7M91'...\n",
      "Downloading PDB structure '7N44'...\n",
      "Downloading PDB structure '7M8P'...\n",
      "Downloading PDB structure '7LTN'...\n",
      "Downloading PDB structure '7ALE'...\n",
      "Downloading PDB structure '7SFC'...\n",
      "Downloading PDB structure '7SFD'...\n",
      "Desired structure doesn't exists\n",
      "Download and convert .cif file\n",
      "Warning! No chains near ligand of interest for 7SFD!\n",
      "Downloading PDB structure '7SFF'...\n",
      "Warning! No chains near ligand of interest for 7SFF!\n",
      "Downloading PDB structure '6X9J'...\n",
      "Downloading PDB structure '7OFK'...\n",
      "Warning! Dissimilar chain for 7OFK (0.9761904761904762)!\n",
      "Warning! Matched sequence not in contact with ligand for 7OFK!\n",
      "Downloading PDB structure '7S3K'...\n",
      "Downloading PDB structure '7S3S'...\n",
      "Downloading PDB structure '7LBS'...\n",
      "Warning! Dissimilar chain for 7LBS (0.9968354430379747)!\n",
      "Warning! Matched sequence not in contact with ligand for 7LBS!\n",
      "Downloading PDB structure '7LOS'...\n",
      "Warning! Dissimilar chain for 7LOS (0.9968354430379747)!\n",
      "Warning! Matched sequence not in contact with ligand for 7LOS!\n",
      "Downloading PDB structure '7LLZ'...\n",
      "Warning! Dissimilar chain for 7LLZ (0.9968354430379747)!\n",
      "Warning! Matched sequence not in contact with ligand for 7LLZ!\n",
      "Downloading PDB structure '7LLF'...\n",
      "Warning! Dissimilar chain for 7LLF (0.9968354430379747)!\n",
      "Warning! Matched sequence not in contact with ligand for 7LLF!\n",
      "Downloading PDB structure '7LBR'...\n",
      "Warning! Dissimilar chain for 7LBR (0.9968354430379747)!\n",
      "Warning! Matched sequence not in contact with ligand for 7LBR!\n",
      "Downloading PDB structure '7RBZ'...\n",
      "Warning! Best matched ligand has different number of heavy atoms for 7RBZ!\n",
      "Downloading PDB structure '7RC0'...\n",
      "Warning! Best matched ligand has different number of heavy atoms for 7RC0!\n",
      "Downloading PDB structure '7L9Y'...\n",
      "Downloading PDB structure '7LUN'...\n",
      "Downloading PDB structure '6WE2'...\n",
      "Downloading PDB structure '7RN1'...\n",
      "Downloading PDB structure '7VVP'...\n",
      "Downloading PDB structure '8DD2'...\n",
      "Warning! Matched sequence not in contact with ligand for 8DD2!\n",
      "Downloading PDB structure '7NI4'...\n",
      "Downloading PDB structure '7NA3'...\n",
      "Warning! Dissimilar chain for 7NA3 (0.9895833333333334)!\n",
      "Warning! Matched sequence not in contact with ligand for 7NA3!\n",
      "Downloading PDB structure '5SEF'...\n",
      "Downloading PDB structure '8DD3'...\n",
      "Desired structure doesn't exists\n",
      "Download and convert .cif file\n",
      "Warning! Matched sequence not in contact with ligand for 8DD3!\n",
      "Downloading PDB structure '7X2C'...\n",
      "Downloading PDB structure '7YXA'...\n",
      "Warning! Dissimilar chain for 7YXA (0.9385113268608414)!\n",
      "Warning! Matched sequence not in contact with ligand for 7YXA!\n",
      "Downloading PDB structure '7LTZ'...\n",
      "Downloading PDB structure '6X9K'...\n",
      "Downloading PDB structure '7PRX'...\n",
      "Downloading PDB structure '5SFI'...\n",
      "Downloading PDB structure '5SIB'...\n",
      "Downloading PDB structure '7NA2'...\n",
      "Warning! Dissimilar chain for 7NA2 (0.9895833333333334)!\n",
      "Warning! Matched sequence not in contact with ligand for 7NA2!\n",
      "Downloading PDB structure '6WE3'...\n",
      "Downloading PDB structure '7CKY'...\n",
      "Downloading PDB structure '7LR0'...\n",
      "Warning! Dissimilar chain for 7LR0 (0.9441860465116279)!\n",
      "Warning! Matched sequence not in contact with ligand for 7LR0!\n",
      "Downloading PDB structure '7EW2'...\n",
      "Downloading PDB structure '5SIJ'...\n",
      "Downloading PDB structure '7NA4'...\n",
      "Warning! Dissimilar chain for 7NA4 (0.9895833333333334)!\n",
      "Warning! Matched sequence not in contact with ligand for 7NA4!\n",
      "Downloading PDB structure '7X2D'...\n"
     ]
    }
   ],
   "source": [
    "for pdbid in df.index:\n",
    "    process_pdb(pdbid)"
   ]
  },
  {
   "cell_type": "code",
   "execution_count": 10,
   "metadata": {},
   "outputs": [
    {
     "name": "stdout",
     "output_type": "stream",
     "text": [
      "Structure exists: 'dataset/7SFF/pdb7sff.ent' \n",
      " ZN\n",
      " ZN\n",
      "EDO\n",
      "EDO\n",
      "EDO\n",
      "EDO\n",
      "EDO\n",
      "EDO\n",
      "EDO\n",
      "GOL\n",
      "HOH\n",
      "HOH\n",
      "HOH\n",
      "HOH\n",
      "HOH\n",
      "HOH\n",
      "HOH\n",
      "HOH\n",
      "HOH\n",
      "HOH\n",
      "HOH\n",
      "HOH\n",
      "HOH\n",
      "HOH\n",
      "HOH\n",
      "HOH\n",
      "HOH\n",
      "HOH\n",
      "HOH\n",
      "HOH\n",
      "HOH\n",
      "HOH\n",
      "HOH\n",
      "HOH\n",
      "HOH\n",
      "HOH\n",
      "HOH\n",
      "HOH\n",
      "HOH\n",
      "HOH\n",
      "HOH\n",
      "HOH\n",
      "HOH\n",
      "HOH\n",
      "HOH\n",
      "HOH\n",
      "HOH\n",
      "HOH\n",
      "HOH\n",
      "HOH\n",
      "HOH\n",
      "HOH\n",
      "HOH\n",
      "HOH\n",
      "HOH\n",
      "HOH\n",
      "HOH\n",
      "HOH\n",
      "HOH\n",
      "HOH\n",
      "HOH\n",
      "HOH\n",
      "HOH\n",
      "HOH\n",
      "HOH\n",
      "HOH\n",
      "HOH\n",
      "HOH\n",
      "HOH\n",
      "HOH\n",
      "HOH\n",
      "HOH\n",
      "HOH\n",
      "HOH\n",
      "HOH\n",
      "HOH\n",
      "HOH\n",
      "HOH\n",
      "HOH\n",
      "HOH\n",
      "HOH\n",
      "HOH\n",
      "HOH\n",
      "HOH\n",
      "HOH\n",
      "HOH\n",
      "HOH\n",
      "HOH\n",
      "HOH\n",
      "HOH\n",
      "HOH\n",
      "HOH\n",
      "HOH\n",
      "HOH\n",
      "HOH\n",
      "HOH\n",
      "HOH\n",
      "HOH\n",
      "HOH\n",
      "HOH\n",
      "HOH\n",
      "HOH\n",
      "HOH\n",
      "HOH\n",
      "HOH\n",
      "HOH\n",
      "HOH\n",
      "HOH\n",
      "HOH\n",
      "HOH\n",
      "HOH\n",
      "HOH\n",
      "HOH\n",
      "HOH\n",
      "HOH\n",
      "HOH\n",
      "HOH\n",
      "HOH\n",
      "HOH\n",
      "HOH\n",
      "HOH\n",
      "HOH\n",
      "HOH\n",
      "HOH\n",
      "HOH\n",
      "HOH\n",
      "HOH\n",
      "HOH\n",
      "HOH\n",
      "HOH\n",
      "HOH\n",
      "HOH\n",
      "HOH\n",
      "HOH\n",
      "HOH\n",
      "HOH\n",
      "HOH\n",
      "HOH\n",
      "HOH\n",
      "HOH\n",
      "HOH\n",
      "HOH\n",
      "HOH\n",
      "HOH\n",
      "HOH\n",
      "HOH\n",
      "HOH\n",
      "HOH\n",
      "HOH\n",
      "HOH\n",
      "HOH\n",
      "HOH\n",
      "HOH\n",
      "HOH\n",
      "HOH\n",
      "HOH\n",
      "HOH\n",
      "HOH\n",
      "HOH\n",
      "HOH\n",
      "HOH\n",
      "HOH\n",
      "HOH\n",
      "HOH\n",
      "HOH\n",
      "HOH\n",
      "HOH\n",
      "HOH\n",
      "HOH\n",
      "HOH\n",
      "HOH\n",
      "HOH\n",
      "HOH\n",
      "HOH\n",
      "HOH\n",
      "HOH\n",
      "HOH\n",
      "HOH\n",
      "HOH\n",
      "HOH\n",
      "HOH\n",
      "HOH\n",
      "HOH\n",
      "HOH\n",
      "HOH\n",
      "HOH\n",
      "HOH\n",
      "HOH\n",
      "HOH\n",
      "HOH\n",
      "HOH\n",
      "HOH\n",
      "HOH\n",
      "HOH\n",
      "HOH\n",
      "HOH\n",
      "HOH\n",
      "HOH\n",
      "HOH\n",
      "HOH\n",
      "HOH\n",
      "HOH\n",
      "HOH\n",
      "HOH\n",
      "HOH\n",
      "HOH\n",
      "HOH\n",
      "HOH\n",
      "HOH\n",
      "HOH\n",
      "HOH\n",
      "HOH\n",
      "HOH\n",
      "HOH\n",
      "HOH\n",
      "HOH\n",
      "HOH\n",
      "HOH\n",
      "HOH\n",
      "HOH\n",
      "HOH\n",
      "HOH\n",
      "HOH\n",
      "HOH\n",
      "HOH\n",
      "HOH\n",
      "HOH\n",
      "HOH\n",
      "HOH\n",
      "HOH\n",
      "HOH\n",
      "HOH\n",
      "HOH\n",
      "HOH\n",
      "HOH\n",
      "HOH\n",
      "HOH\n",
      "HOH\n",
      "HOH\n",
      "HOH\n",
      "HOH\n",
      "HOH\n",
      "HOH\n",
      "HOH\n",
      "HOH\n",
      "HOH\n",
      "HOH\n",
      "HOH\n",
      "HOH\n",
      "HOH\n",
      "HOH\n",
      "HOH\n",
      "HOH\n",
      "HOH\n",
      "HOH\n",
      "HOH\n",
      "HOH\n",
      "HOH\n",
      "HOH\n",
      "HOH\n",
      "HOH\n",
      "HOH\n",
      "HOH\n",
      "HOH\n",
      "HOH\n",
      "HOH\n",
      "HOH\n",
      "HOH\n",
      "HOH\n",
      "HOH\n",
      "HOH\n",
      "HOH\n",
      "HOH\n",
      "HOH\n",
      "HOH\n",
      "HOH\n",
      "HOH\n",
      "HOH\n",
      "HOH\n",
      "HOH\n",
      "HOH\n",
      "HOH\n",
      "HOH\n",
      "HOH\n",
      "HOH\n",
      "HOH\n",
      "HOH\n",
      "HOH\n",
      "HOH\n",
      "HOH\n",
      "HOH\n",
      "HOH\n",
      "HOH\n",
      "HOH\n",
      "HOH\n",
      "HOH\n",
      "HOH\n",
      "HOH\n",
      "HOH\n",
      "HOH\n",
      "HOH\n",
      "HOH\n",
      "HOH\n",
      "HOH\n",
      "HOH\n",
      "HOH\n",
      "HOH\n",
      "HOH\n",
      "HOH\n",
      "HOH\n",
      "HOH\n",
      "HOH\n",
      "HOH\n",
      "HOH\n",
      "HOH\n",
      "HOH\n",
      "HOH\n",
      "HOH\n",
      "HOH\n",
      "HOH\n",
      "HOH\n",
      "HOH\n",
      "HOH\n",
      "HOH\n",
      "HOH\n",
      "HOH\n",
      "HOH\n",
      "HOH\n",
      "HOH\n",
      "HOH\n",
      "HOH\n",
      "HOH\n",
      "HOH\n",
      "HOH\n",
      "HOH\n",
      "HOH\n",
      "HOH\n",
      "HOH\n",
      "HOH\n",
      "HOH\n",
      "HOH\n",
      "HOH\n",
      "HOH\n",
      "HOH\n",
      "HOH\n",
      "HOH\n",
      "HOH\n",
      "HOH\n",
      "HOH\n",
      "HOH\n",
      "HOH\n",
      "HOH\n",
      "HOH\n",
      "HOH\n",
      " DG\n",
      " DA\n",
      " DG\n",
      " DG\n",
      " DC\n",
      "5CM\n",
      " DG\n",
      " DC\n",
      " DC\n",
      " DT\n",
      " DG\n",
      " DC\n",
      "C79\n",
      "HOH\n",
      "HOH\n",
      "HOH\n",
      " DG\n",
      " DC\n",
      " DA\n",
      " DG\n",
      " DG\n",
      "PYO\n",
      " DG\n",
      " DG\n",
      " DC\n",
      " DC\n",
      " DT\n",
      " DC\n",
      "HOH\n",
      "HOH\n",
      "HOH\n",
      "chain A min_dist 4.53083852931545\n"
     ]
    }
   ],
   "source": [
    "results=process_pdb(\"7SFF\")"
   ]
  },
  {
   "cell_type": "code",
   "execution_count": 44,
   "metadata": {},
   "outputs": [
    {
     "data": {
      "image/png": "[encoded data removed]",
      "text/plain": [
       "<PIL.PngImagePlugin.PngImageFile image mode=RGB size=600x200 at 0x7FE627B27990>"
      ]
     },
     "execution_count": 44,
     "metadata": {},
     "output_type": "execute_result"
    }
   ],
   "source": [
    "Draw.MolsToGridImage([a,results[1]])"
   ]
  },
  {
   "cell_type": "code",
   "execution_count": 43,
   "metadata": {},
   "outputs": [
    {
     "data": {
      "text/plain": [
       "0"
      ]
     },
     "execution_count": 43,
     "metadata": {},
     "output_type": "execute_result"
    }
   ],
   "source": [
    "a=copy(results[0])\n",
    "AllChem.Compute2DCoords(a)"
   ]
  },
  {
   "cell_type": "code",
   "execution_count": 42,
   "metadata": {},
   "outputs": [
    {
     "data": {
      "text/plain": [
       "(37, 42)"
      ]
     },
     "execution_count": 42,
     "metadata": {},
     "output_type": "execute_result"
    }
   ],
   "source": [
    "results[0].GetNumAtoms(), results[1].GetNumAtoms()"
   ]
  },
  {
   "cell_type": "code",
   "execution_count": 16,
   "metadata": {},
   "outputs": [],
   "source": [
    "results"
   ]
  },
  {
   "cell_type": "code",
   "execution_count": 29,
   "metadata": {},
   "outputs": [
    {
     "data": {
      "text/plain": [
       "('MAGGRGAPGRGRDEPPESYPQRQDHELQALEAIYGADFQDLRPDACGPVKEPPEINLVLYPQGLTGEEVYVKVDLRVKCPPTYPDVVPEIELKNAKGLSNESVNLLKSRLEELAKKHCGEVMIFELAYHVQSFLSEHNKPPPKSFHEEMLERRAQEEQQRLLEAKRKEEQEQREILHEIQRRKEEIKEEKKRKEMAKQERLEIASLSNQDHTSKKDPGGHRTAAILHGGSPDFVGNGKHRANSSGRSRRERQYSVCNSEDSPGSCEILYFNMGSPDQLMVHKGKCIGSDEQLGKLVYNALETATGGFVLLYEWVLQWQKKMGPFLTSQEKEKIDKCKKQIQGTETEFNSLVKLSHPNVVRYLAMNLKEQDDSIVVDILVEHISGVSLAAHLSHSGPIPVHQLRRYTAQLLSGLDYLHSNSVVHKVLSASNVLVDAEGTVKITDYSISKRLADICKEDVFEQTRVRFSDNALPYKTGKKGDVWRLGLLLLSLSQGQECGEYPVTIPSDLPADFQDFLKKCVCLDDKERWSPQQLLKHSFINPQPKMPLVEQSPEDSEGQDYVETVIPSNRLPSAAFFSETQRQFSRYFIEFEELQLLGKGAFGAVIKVQNKLDGCCYAVKRIPINPASRQFRRIKGEVTLLSRLHHENIVRYYNAWIERHERPAGPGTPPPDSGPLAKDDRAARGQPASDTDGLDSVEAAAPPPILSSSVEWSTSGERSASARFPATGPGSSDDEDDDEDEHGGVFSQSFLPASDSESDIIFDNEDENSKSQNQDEDCNEKNGCHESEPSVTTEAVHYLYIQMEYCEKSTLRDTIDQGLYRDTVRLWRLFREILDGLAYIHEKGMIHRDLKPVNIFLDSDDHVKIGDFGLATDHLAFSADSKQDDQTGDLIKSDPSGHLTGMVGTALYVSPEVQGSTKSAYNQKVDLFSLGIIFFEMSYHPMVTASERIFVLNQLRDPTSPKFPEDFDDGEHAKQKSVISWLLNHDPAKRPTATELLKSELLPPPQMEESELHEVLHHTLTNVDGKAYRTMMAQIFSQRISPAIDYTYDSDILKGNFSIRTAKMQQHVCETIIRIFKRHGAVQLCTPLLLPRNRQIYEHNEAALFMDHSGMLVMLPFDLRIPFARYVARNNILNLKRYCIERVFRPRKLDRFHPKELLECAFDIVTSTTNSFLPTAEIIYTIYEIIQEFPALQERNYSIYLNHTMLLKAILLHCGIPEDKLSQVYIILYDAVTEKLTRREVEAKFCNLSLSSNSLCRLYKFIEQKGDLQDLMPTINSLIKQKTGIAQLVKYGLKDLEEVVGLLKKLGIKLQVLINLGLVYKVQQHNGIIFQFVAFIKRRQRAVPEILAAGGRYDLLIPQFRGPQALGPVPTAIGVSIAIDKISAAVLNMEESVTISSCDLLVVSVGQMSMSRAINLTQKLWTAGITAEIMYDWSQSQEELQEYCRHHEITYVALVSDKEGSHVKVKSFEKERQTEKRVLETELVDHVLQKLRTKVTDERNGREASDNLAVQNLKGSFSNASGLFEIHGATVVPIVSVLAPEKLSASTRRRYETQVQTRLQTSLANLHQKSSEIEILAVDLPKETILQFLSLEWDADEQAFNTTVKQLLSRLPKQRYLKLVCDEIYNIKVEKKVSVLFLYSYRDDYYRILF',\n",
       " ['A'])"
      ]
     },
     "execution_count": 29,
     "metadata": {},
     "output_type": "execute_result"
    }
   ],
   "source": [
    "results[0],results[2]"
   ]
  },
  {
   "cell_type": "code",
   "execution_count": 38,
   "metadata": {},
   "outputs": [
    {
     "data": {
      "text/plain": [
       "{'A': 'SRYFIEFEELQLLGKGAFGAVIKVQNKLDGCCYAVKRIPINPASRQFRRIKGEVTLLSRLHHENIVRYYNAWIERHERPVHYLYIQMEYCEKSTLRDTIDQGLYRDTVRLWRLFREILDGLAYIHEKGMIHRNLKPVNIFLDSDDHVKIGDFGLIKSDPSGHLTGMVGTALYVSPEVQGSTKSAYNQKVDLFSLGIIFFEMSYHPMVTASERIFVLNQLRDPTSPKFPEDFDDGEHAKQKSVISWLLNHDPAKRPTATELLKSELLPPP',\n",
       " 'B': 'SRYFIEFEELQLLGKGAFGAVIKVQNKLDGCCYAVKRIPINPASRQFRRIKGEVTLLSRLHHENIVRYYNAWIERHERPEAVHYLYIQMEYCEKSTLRDTIDQGLYRDTVRLWRLFREILDGLAYIHEKGMIHRNLKPVNIFLDSDDHVKIGDFGLDLIKSDPSGHLTGMVGTALYVSPEVQGSTKSAYNQKVDLFSLGIIFFEMSYHPMVTASERIFVLNQLRDPTSPKFPEDFDDGEHAKQKSVISWLLNHDPAKRPTATELLKSELLPPPQM',\n",
       " 'C': 'SRYFIEFEELQLLGKGAFGAVIKVQNKLDGCCYAVKRIPINPASRQFRRIKGEVTLLSRLHHENIVRYYNAWIERHERPVTTEAVHYLYIQMEYCEKSTLRDTIDQGLYRDTVRLWRLFREILDGLAYIHEKGMIHRNLKPVNIFLDSDDHVKIGDFGLATDHGTALYVSPEVQGSTKSAYNQKVDLFSLGIIFFEMSYHPMVTASERIFVLNQLRDPTSPKFPEDFDDGEHAKQKSVISWLLNHDPAKRPTATELLKSELLPPPQM',\n",
       " 'D': 'SRYFIEFEELQLLGKGAFGAVIKVQNKLDGCCYAVKRIPINPASRQFRRIKGEVTLLSRLHHENIVRYYNAWIERHERPEAVHYLYIQMEYCEKSTLRDTIDQGLYRDTVRLWRLFREILDGLAYIHEKGMIHRNLKPVNIFLDSDDHVKIGDFGLATDHLAALYVSPEVQSAYNQKVDLFSLGIIFFEMSYHPMVTASERIFVLNQLRDPTSPKFPEDFDDGEHAKQKSVISWLLNHDPAKRPTATELLKSELLPPPQM'}"
      ]
     },
     "execution_count": 38,
     "metadata": {},
     "output_type": "execute_result"
    }
   ],
   "source": [
    "results[1]"
   ]
  },
  {
   "cell_type": "code",
   "execution_count": 30,
   "metadata": {},
   "outputs": [
    {
     "data": {
      "text/plain": [
       "0.9962825278810409"
      ]
     },
     "execution_count": 30,
     "metadata": {},
     "output_type": "execute_result"
    }
   ],
   "source": [
    "calc_seq_align_identity(results[0],results[1][\"A\"])"
   ]
  },
  {
   "cell_type": "code",
   "execution_count": 31,
   "metadata": {},
   "outputs": [
    {
     "data": {
      "text/plain": [
       "('MAGGRGAPGRGRDEPPESYPQRQDHELQALEAIYGADFQDLRPDACGPVKEPPEINLVLYPQGLTGEEVYVKVDLRVKCPPTYPDVVPEIELKNAKGLSNESVNLLKSRLEELAKKHCGEVMIFELAYHVQSFLSEHNKPPPKSFHEEMLERRAQEEQQRLLEAKRKEEQEQREILHEIQRRKEEIKEEKKRKEMAKQERLEIASLSNQDHTSKKDPGGHRTAAILHGGSPDFVGNGKHRANSSGRSRRERQYSVCNSEDSPGSCEILYFNMGSPDQLMVHKGKCIGSDEQLGKLVYNALETATGGFVLLYEWVLQWQKKMGPFLTSQEKEKIDKCKKQIQGTETEFNSLVKLSHPNVVRYLAMNLKEQDDSIVVDILVEHISGVSLAAHLSHSGPIPVHQLRRYTAQLLSGLDYLHSNSVVHKVLSASNVLVDAEGTVKITDYSISKRLADICKEDVFEQTRVRFSDNALPYKTGKKGDVWRLGLLLLSLSQGQECGEYPVTIPSDLPADFQDFLKKCVCLDDKERWSPQQLLKHSFINPQPKMPLVEQSPEDSEGQDYVETVIPSNRLPSAAFFSETQRQFSRYFIEFEELQLLGKGAFGAVIKVQNKLDGCCYAVKRIPINPASRQFRRIKGEVTLLSRLHHENIVRYYNAWIERHERPAGPGTPPPDSGPLAKDDRAARGQPASDTDGLDSVEAAAPPPILSSSVEWSTSGERSASARFPATGPGSSDDEDDDEDEHGGVFSQSFLPASDSESDIIFDNEDENSKSQNQDEDCNEKNGCHESEPSVTTEAVHYLYIQMEYCEKSTLRDTIDQGLYRDTVRLWRLFREILDGLAYIHEKGMIHRDLKPVNIFLDSDDHVKIGDFGLATDHLAFSADSKQDDQTGDLIKSDPSGHLTGMVGTALYVSPEVQGSTKSAYNQKVDLFSLGIIFFEMSYHPMVTASERIFVLNQLRDPTSPKFPEDFDDGEHAKQKSVISWLLNHDPAKRPTATELLKSELLPPPQMEESELHEVLHHTLTNVDGKAYRTMMAQIFSQRISPAIDYTYDSDILKGNFSIRTAKMQQHVCETIIRIFKRHGAVQLCTPLLLPRNRQIYEHNEAALFMDHSGMLVMLPFDLRIPFARYVARNNILNLKRYCIERVFRPRKLDRFHPKELLECAFDIVTSTTNSFLPTAEIIYTIYEIIQEFPALQERNYSIYLNHTMLLKAILLHCGIPEDKLSQVYIILYDAVTEKLTRREVEAKFCNLSLSSNSLCRLYKFIEQKGDLQDLMPTINSLIKQKTGIAQLVKYGLKDLEEVVGLLKKLGIKLQVLINLGLVYKVQQHNGIIFQFVAFIKRRQRAVPEILAAGGRYDLLIPQFRGPQALGPVPTAIGVSIAIDKISAAVLNMEESVTISSCDLLVVSVGQMSMSRAINLTQKLWTAGITAEIMYDWSQSQEELQEYCRHHEITYVALVSDKEGSHVKVKSFEKERQTEKRVLETELVDHVLQKLRTKVTDERNGREASDNLAVQNLKGSFSNASGLFEIHGATVVPIVSVLAPEKLSASTRRRYETQVQTRLQTSLANLHQKSSEIEILAVDLPKETILQFLSLEWDADEQAFNTTVKQLLSRLPKQRYLKLVCDEIYNIKVEKKVSVLFLYSYRDDYYRILF',\n",
       " '-------------------------------------------------------------------------------------------------------------------------------------------------------------------------------------------------------------------------------------------------------------------------------------------------------------------------------------------------------------------------------------------------------------------------------------------------------------------------------------------------------------------------------------------------------------------------------------------------------SRYFIEFEELQLLGKGAFGAVIKVQNKLDGCCYAVKRIPINPASRQFRRIKGEVTLLSRLHHENIVRYYNAWIERHERP------------------------------------------------------------------------------------------------------------------------------------VHYLYIQMEYCEKSTLRDTIDQGLYRDTVRLWRLFREILDGLAYIHEKGMIHRNLKPVNIFLDSDDHVKIGDFG--------------------LIKSDPSGHLTGMVGTALYVSPEVQGSTKSAYNQKVDLFSLGIIFFEMSYHPMVTASERIFVLNQLRDPTSPKFPEDFDDGEHAKQKSVISWLLNHDPAKRPTATELLKSELLPPP---------------------------------------------------------------------------------------------------------------------------------------------------------------------------------------------------------------------------------------------------------------------------------------------------------------------------------------------------------------------------------------------------------------------------------------------------------------------------------------------------------------------------------------------------------------------------------------------------------------------------------------------------------------------')"
      ]
     },
     "execution_count": 31,
     "metadata": {},
     "output_type": "execute_result"
    }
   ],
   "source": [
    "Needleman_Wunsch_alignment(results[0],results[1][\"A\"])"
   ]
  },
  {
   "cell_type": "code",
   "execution_count": 37,
   "metadata": {},
   "outputs": [],
   "source": [
    "write_alignment(results[0],results[1][\"A\"],\"test.txt\")"
   ]
  },
  {
   "cell_type": "code",
   "execution_count": 33,
   "metadata": {},
   "outputs": [],
   "source": [
    "with open(\"test.txt\", \"w\") as f:\n",
    "    f.write('\\033[31m' + 'This text is red\\033[0m')\n"
   ]
  },
  {
   "cell_type": "code",
   "execution_count": 15,
   "metadata": {},
   "outputs": [
    {
     "name": "stdout",
     "output_type": "stream",
     "text": [
      "OC(=O)CCCN1CCc2cccc(OCCc3cccc4ccccc34)c2CC1 value                                                    50\n",
      "smiles          OC(=O)CCCN1CCc2cccc(OCCc3cccc4ccccc34)c2CC1\n",
      "seq       MESGLLRPAPVSEVIVLHYNYTGKLRGARYQPGAGLRADAVVCLAV...\n",
      "Name: 7YXA, dtype: object\n"
     ]
    },
    {
     "data": {
      "image/png": "[encoded data removed]",
      "text/plain": [
       "<PIL.Image.Image image mode=RGB size=300x300 at 0x7F499A7ABB10>"
      ]
     },
     "execution_count": 15,
     "metadata": {},
     "output_type": "execute_result"
    }
   ],
   "source": [
    "a=\"7YXA\"\n",
    "print(df.loc[a][\"smiles\"],df.loc[a])\n",
    "Draw.MolToImage(Chem.MolFromSmiles(df.loc[a][\"smiles\"]))"
   ]
  },
  {
   "cell_type": "code",
   "execution_count": 150,
   "metadata": {},
   "outputs": [
    {
     "name": "stdout",
     "output_type": "stream",
     "text": [
      "MTELPAPLSYFQNAQMSEDNHLSNTVRSQNDNRERQEHNDRRSLGHPEPLSNGRPQGNSRQVVEQDEEEDEELTLKYGAKHVIMLFVPVTLCMVVVVATIKSVSFYTRKDGQLIYTPFTEDTETVGQRALHSILNAAIMISVIVVMTILLVVLYKYRCYKVIHAWLIISSLLLLFFFSFIYLGEVFKTYNVAVDYITVALLIWNFGVVGMISIHWKGPLRLQQAYLIMISALMALVFIKYLPEWTAWLILAVISVYDLVAVLCPKGPLRMLVETAQERNETLFPALIYSSTMVWLVNMAEGDPEAQRRVSKNSKYNAESTERESQDTVAENDDGGFSEEWEAQRDSHLGPHRSTPESRAAVQELSSSILAGEDPEERGVKLGLGDFIFYSVLVGKASATASGDWNTTIACFVAILIGLCLTLLLLAIFKKALPALPISITFGLVFYFATDYLVQPFMDQLAFHQFYI\n"
     ]
    }
   ],
   "source": [
    "print(df.loc[\"6LR4\"][\"seq\"])"
   ]
  },
  {
   "cell_type": "code",
   "execution_count": 17,
   "metadata": {},
   "outputs": [
    {
     "name": "stdout",
     "output_type": "stream",
     "text": [
      "Structure exists: 'dataset/8DD3/pdb8dd3.ent' \n",
      "Warning! Best matched ligand is not similar for 8DD3!\n",
      "[0.16666666666666666, 0.16666666666666666, 0.16666666666666666, 0.16666666666666666, 0.16901408450704225, 0.16901408450704225, 0.14035087719298245, 0.5393258426966292, 0.16901408450704225, 0.14035087719298245, 0.5882352941176471, 0.5882352941176471]\n"
     ]
    }
   ],
   "source": [
    "ref_mol,ligands=process_pdb(\"8DD3\")"
   ]
  },
  {
   "cell_type": "code",
   "execution_count": 74,
   "metadata": {},
   "outputs": [
    {
     "data": {
      "image/png": "[encoded data removed]",
      "text/plain": [
       "<PIL.Image.Image image mode=RGB size=300x300 at 0x7FF71CBE7590>"
      ]
     },
     "execution_count": 74,
     "metadata": {},
     "output_type": "execute_result"
    }
   ],
   "source": [
    "new_mol=copy(ref_mol)\n",
    "for atom in new_mol.GetAtoms():\n",
    "    atom.SetProp('atomIndex', str(atom.GetIdx()))\n",
    "Draw.MolToImage(new_mol, includeAtomNumbers=True)"
   ]
  },
  {
   "cell_type": "code",
   "execution_count": 77,
   "metadata": {},
   "outputs": [
    {
     "data": {
      "image/png": "[encoded data removed]",
      "text/plain": [
       "<PIL.Image.Image image mode=RGB size=300x300 at 0x7FF71C9BB710>"
      ]
     },
     "execution_count": 77,
     "metadata": {},
     "output_type": "execute_result"
    }
   ],
   "source": [
    "Draw.MolToImage(ref_mol)"
   ]
  },
  {
   "cell_type": "code",
   "execution_count": 72,
   "metadata": {},
   "outputs": [
    {
     "data": {
      "text/plain": [
       "28"
      ]
     },
     "execution_count": 72,
     "metadata": {},
     "output_type": "execute_result"
    }
   ],
   "source": [
    "Chem.RemoveHs(ref_mol,sanitize=False).GetNumAtoms()"
   ]
  },
  {
   "cell_type": "code",
   "execution_count": null,
   "metadata": {},
   "outputs": [],
   "source": []
  },
  {
   "cell_type": "code",
   "execution_count": 66,
   "metadata": {},
   "outputs": [],
   "source": [
    "proc_ligs = []\n",
    "for lig in ligands:\n",
    "    AllChem.Compute2DCoords(lig)\n",
    "    proc_ligs.append(Chem.RemoveHs(lig,sanitize=False))"
   ]
  },
  {
   "cell_type": "code",
   "execution_count": 67,
   "metadata": {},
   "outputs": [
    {
     "data": {
      "image/png": "[encoded data removed]",
      "text/plain": [
       "<PIL.PngImagePlugin.PngImageFile image mode=RGB size=1000x600 at 0x7FF71C9B7090>"
      ]
     },
     "execution_count": 67,
     "metadata": {},
     "output_type": "execute_result"
    }
   ],
   "source": [
    "Draw.MolsToGridImage(proc_ligs, molsPerRow=5, subImgSize=(200, 200))"
   ]
  },
  {
   "cell_type": "code",
   "execution_count": 71,
   "metadata": {},
   "outputs": [
    {
     "data": {
      "text/plain": [
       "23"
      ]
     },
     "execution_count": 71,
     "metadata": {},
     "output_type": "execute_result"
    }
   ],
   "source": [
    "proc_ligs[-1].GetNumAtoms()"
   ]
  },
  {
   "cell_type": "code",
   "execution_count": 181,
   "metadata": {},
   "outputs": [],
   "source": [
    "disordered_atoms =[]\n",
    "for atom in a.get_atoms():\n",
    "    if atom.is_disordered():\n",
    "        disordered_atoms.append(atom)"
   ]
  },
  {
   "cell_type": "code",
   "execution_count": 182,
   "metadata": {},
   "outputs": [
    {
     "name": "stdout",
     "output_type": "stream",
     "text": [
      "[<Atom N>, <Atom CA>, <Atom C>, <Atom O>]\n",
      "[<Atom N>, <Atom CA>, <Atom C>, <Atom O>, <Atom CB>, <Atom CG>, <Atom CD1>, <Atom CD2>]\n",
      "[<Atom N>, <Atom CA>, <Atom C>, <Atom O>, <Atom CB>, <Atom CG>, <Atom SD>, <Atom CE>]\n",
      "[<Atom N>, <Atom CA>, <Atom C>, <Atom O>, <Atom CB>, <Atom CG>, <Atom CD>, <Atom OE1>, <Atom NE2>]\n",
      "[<Atom N>, <Atom CA>, <Atom C>, <Atom O>, <Atom CB>, <Atom CG>, <Atom CD1>, <Atom CD2>, <Atom CE1>, <Atom CE2>, <Atom CZ>]\n",
      "[<Atom N>, <Atom CA>, <Atom C>, <Atom O>, <Atom CB>, <Atom OG1>, <Atom CG2>]\n",
      "[<Atom N>, <Atom CA>, <Atom C>, <Atom O>, <Atom CB>, <Atom CG>, <Atom CD1>, <Atom CD2>]\n",
      "[<Atom N>, <Atom CA>, <Atom C>, <Atom O>, <Atom CB>, <Atom CG>, <Atom CD>]\n",
      "[<Atom N>, <Atom CA>, <Atom C>, <Atom O>, <Atom CB>, <Atom CG1>, <Atom CG2>]\n",
      "[<Atom N>, <Atom CA>, <Atom C>, <Atom O>, <Atom CB>, <Atom CG>, <Atom CD>, <Atom NE>, <Atom CZ>, <Atom NH1>, <Atom NH2>]\n",
      "[<Atom N>, <Atom CA>, <Atom C>, <Atom O>, <Atom CB>, <Atom CG>, <Atom CD1>, <Atom CD2>]\n",
      "[<Atom N>, <Atom CA>, <Atom C>, <Atom O>, <Atom CB>, <Atom SG>]\n",
      "[<Atom N>, <Atom CA>, <Atom C>, <Atom O>, <Atom CB>, <Atom CG>, <Atom CD>, <Atom CE>, <Atom NZ>]\n",
      "[<Atom N>, <Atom CA>, <Atom C>, <Atom O>, <Atom CB>, <Atom CG>, <Atom CD>, <Atom OE1>, <Atom OE2>]\n",
      "[<Atom N>, <Atom CA>, <Atom C>, <Atom O>, <Atom CB>, <Atom CG1>, <Atom CG2>, <Atom CD1>]\n",
      "[<Atom N>, <Atom CA>, <Atom C>, <Atom O>, <Atom CB>, <Atom CG>, <Atom CD>, <Atom OE1>, <Atom OE2>]\n",
      "[<Atom N>, <Atom CA>, <Atom C>, <Atom O>, <Atom CB>, <Atom CG>, <Atom CD1>, <Atom CD2>]\n",
      "[<Atom N>, <Atom CA>, <Atom C>, <Atom O>, <Atom CB>, <Atom CG>, <Atom CD1>, <Atom CD2>, <Atom CE1>, <Atom CE2>, <Atom CZ>]\n",
      "[<Atom N>, <Atom CA>, <Atom C>, <Atom O>, <Atom CB>, <Atom CG>, <Atom ND1>, <Atom CD2>, <Atom CE1>, <Atom NE2>]\n",
      "[<Atom N>, <Atom CA>, <Atom C>, <Atom O>, <Atom CB>, <Atom CG>, <Atom CD1>, <Atom CD2>, <Atom CE1>, <Atom CE2>, <Atom CZ>]\n",
      "[<Atom N>, <Atom CA>, <Atom C>, <Atom O>, <Atom CB>, <Atom CG>, <Atom OD1>, <Atom OD2>]\n",
      "[<Atom N>, <Atom CA>, <Atom C>, <Atom O>, <Atom CB>, <Atom CG1>, <Atom CG2>, <Atom CD1>]\n",
      "[<Atom N>, <Atom CA>, <Atom C>, <Atom O>]\n",
      "[<Atom N>, <Atom CA>, <Atom C>, <Atom O>, <Atom CB>, <Atom CG>, <Atom CD>]\n",
      "[<Atom N>, <Atom CA>, <Atom C>, <Atom O>, <Atom CB>, <Atom CG>, <Atom CD1>, <Atom CD2>, <Atom CE1>, <Atom CE2>, <Atom CZ>]\n",
      "[<Atom N>, <Atom CA>, <Atom C>, <Atom O>, <Atom CB>, <Atom CG>, <Atom CD>, <Atom OE1>, <Atom OE2>]\n",
      "[<Atom N>, <Atom CA>, <Atom C>, <Atom O>, <Atom CB>, <Atom CG>, <Atom OD1>, <Atom ND2>]\n",
      "[<Atom N>, <Atom CA>, <Atom C>, <Atom O>, <Atom CB>, <Atom CG>, <Atom SD>, <Atom CE>]\n",
      "[<Atom N>, <Atom CA>, <Atom C>, <Atom O>, <Atom CB>, <Atom CG>, <Atom CD1>, <Atom CD2>, <Atom NE1>, <Atom CE2>, <Atom CE3>, <Atom CZ2>, <Atom CZ3>, <Atom CH2>]\n",
      "[<Atom N>, <Atom CA>, <Atom C>, <Atom O>, <Atom CB>, <Atom CG>, <Atom CD>]\n",
      "[<Atom N>, <Atom CA>, <Atom C>, <Atom O>]\n",
      "[<Atom N>, <Atom CA>, <Atom C>, <Atom O>, <Atom CB>, <Atom CG1>, <Atom CG2>, <Atom CD1>]\n",
      "[<Atom N>, <Atom CA>, <Atom C>, <Atom O>, <Atom CB>, <Atom CG>, <Atom CD1>, <Atom CD2>, <Atom CE1>, <Atom CE2>, <Atom CZ>]\n",
      "[<Atom N>, <Atom CA>, <Atom C>, <Atom O>, <Atom CB>, <Atom CG1>, <Atom CG2>]\n",
      "[<Atom N>, <Atom CA>, <Atom C>, <Atom O>, <Atom CB>, <Atom CG>, <Atom CD1>, <Atom CD2>, <Atom CE1>, <Atom CE2>, <Atom CZ>, <Atom OH>]\n",
      "[<Atom N>, <Atom CA>, <Atom C>, <Atom O>, <Atom CB>, <Atom CG>, <Atom SD>, <Atom CE>]\n",
      "[<Atom N>, <Atom CA>, <Atom C>, <Atom O>, <Atom CB>, <Atom CG1>, <Atom CG2>]\n",
      "[<Atom N>, <Atom CA>, <Atom C>, <Atom O>, <Atom CB>, <Atom CG>, <Atom ND1>, <Atom CD2>, <Atom CE1>, <Atom NE2>]\n",
      "[<Atom N>, <Atom CA>, <Atom C>, <Atom O>, <Atom CB>, <Atom CG>, <Atom CD>, <Atom NE>, <Atom CZ>, <Atom NH1>, <Atom NH2>]\n",
      "[<Atom N>, <Atom CA>, <Atom C>, <Atom O>, <Atom CB>, <Atom OG>]\n",
      "[<Atom N>, <Atom CA>, <Atom C>, <Atom O>, <Atom CB>, <Atom SG>]\n",
      "[<Atom N>, <Atom CA>, <Atom C>, <Atom O>]\n",
      "[<Atom N>, <Atom CA>, <Atom C>, <Atom O>, <Atom CB>, <Atom OG1>, <Atom CG2>]\n",
      "[<Atom N>, <Atom CA>, <Atom C>, <Atom O>, <Atom CB>, <Atom OG>]\n",
      "[<Atom N>, <Atom CA>, <Atom C>, <Atom O>, <Atom CB>, <Atom SG>]\n",
      "[<Atom N>, <Atom CA>, <Atom C>, <Atom O>, <Atom CB>, <Atom CG>, <Atom CD1>, <Atom CD2>, <Atom CE1>, <Atom CE2>, <Atom CZ>]\n",
      "[<Atom N>, <Atom CA>, <Atom C>, <Atom O>, <Atom CB>, <Atom CG>, <Atom CD>, <Atom OE1>, <Atom OE2>]\n",
      "[<Atom N>, <Atom CA>, <Atom C>, <Atom O>, <Atom CB>, <Atom CG>, <Atom CD1>, <Atom CD2>]\n",
      "[<Atom N>, <Atom CA>, <Atom C>, <Atom O>, <Atom CB>, <Atom CG>, <Atom CD>, <Atom OE1>, <Atom OE2>]\n",
      "[<Atom N>, <Atom CA>, <Atom C>, <Atom O>, <Atom CB>, <Atom CG>, <Atom CD>, <Atom CE>, <Atom NZ>]\n",
      "[<Atom N>, <Atom CA>, <Atom C>, <Atom O>, <Atom CB>, <Atom CG>, <Atom CD1>, <Atom CD2>]\n",
      "[<Atom N>, <Atom CA>, <Atom CB>, <Atom SG>, <Atom SD>, <Atom CE>, <Atom CZ>, <Atom OH>, <Atom C>, <Atom O>]\n",
      "[<Atom N>, <Atom CA>, <Atom C>, <Atom O>, <Atom CB>, <Atom CG>, <Atom CD>, <Atom NE>, <Atom CZ>, <Atom NH1>, <Atom NH2>]\n",
      "[<Atom N>, <Atom CA>, <Atom C>, <Atom O>, <Atom CB>, <Atom CG>, <Atom CD1>, <Atom CD2>, <Atom CE1>, <Atom CE2>, <Atom CZ>]\n",
      "[<Atom N>, <Atom CA>, <Atom C>, <Atom O>, <Atom CB>, <Atom CG1>, <Atom CG2>, <Atom CD1>]\n",
      "[<Atom N>, <Atom CA>, <Atom C>, <Atom O>, <Atom CB>, <Atom CG>, <Atom SD>, <Atom CE>]\n",
      "[<Atom N>, <Atom CA>, <Atom C>, <Atom O>, <Atom CB>, <Atom OG>]\n",
      "[<Atom N>, <Atom CA>, <Atom C>, <Atom O>, <Atom CB>, <Atom CG1>, <Atom CG2>]\n",
      "[<Atom N>, <Atom CA>, <Atom C>, <Atom O>, <Atom CB>, <Atom CG>, <Atom CD>, <Atom CE>, <Atom NZ>]\n",
      "[<Atom N>, <Atom CA>, <Atom C>, <Atom O>, <Atom CB>, <Atom CG>, <Atom CD>, <Atom CE>, <Atom NZ>]\n",
      "[<Atom N>, <Atom CA>, <Atom C>, <Atom O>, <Atom CB>, <Atom CG>, <Atom OD1>, <Atom ND2>]\n",
      "[<Atom N>, <Atom CA>, <Atom C>, <Atom O>, <Atom CB>, <Atom CG>, <Atom CD1>, <Atom CD2>, <Atom CE1>, <Atom CE2>, <Atom CZ>, <Atom OH>]\n",
      "[<Atom N>, <Atom CA>, <Atom C>, <Atom O>, <Atom CB>, <Atom CG>, <Atom CD>, <Atom NE>, <Atom CZ>, <Atom NH1>, <Atom NH2>]\n",
      "[<Atom N>, <Atom CA>, <Atom C>, <Atom O>, <Atom CB>, <Atom CG>, <Atom CD>, <Atom NE>, <Atom CZ>, <Atom NH1>, <Atom NH2>]\n",
      "[<Atom N>, <Atom CA>, <Atom C>, <Atom O>, <Atom CB>, <Atom CG1>, <Atom CG2>]\n",
      "[<Atom N>, <Atom CA>, <Atom C>, <Atom O>, <Atom CB>, <Atom CG>, <Atom CD>]\n",
      "[<Atom N>, <Atom CA>, <Atom C>, <Atom O>, <Atom CB>, <Atom CG>, <Atom CD1>, <Atom CD2>, <Atom CE1>, <Atom CE2>, <Atom CZ>, <Atom OH>]\n",
      "[<Atom N>, <Atom CA>, <Atom C>, <Atom O>, <Atom CB>, <Atom CG>, <Atom ND1>, <Atom CD2>, <Atom CE1>, <Atom NE2>]\n",
      "[<Atom N>, <Atom CA>, <Atom C>, <Atom O>, <Atom CB>, <Atom CG>, <Atom OD1>, <Atom ND2>]\n",
      "[<Atom N>, <Atom CA>, <Atom C>, <Atom O>, <Atom CB>, <Atom CG>, <Atom CD1>, <Atom CD2>, <Atom NE1>, <Atom CE2>, <Atom CE3>, <Atom CZ2>, <Atom CZ3>, <Atom CH2>]\n",
      "[<Atom N>, <Atom CA>, <Atom C>, <Atom O>, <Atom CB>, <Atom CG>, <Atom CD>, <Atom CE>, <Atom NZ>]\n",
      "[<Atom N>, <Atom CA>, <Atom C>, <Atom O>, <Atom CB>, <Atom CG>, <Atom ND1>, <Atom CD2>, <Atom CE1>, <Atom NE2>]\n",
      "[<Atom N>, <Atom CA>, <Atom C>, <Atom O>, <Atom CB>]\n",
      "[<Atom N>, <Atom CA>, <Atom C>, <Atom O>, <Atom CB>, <Atom CG1>, <Atom CG2>]\n",
      "[<Atom N>, <Atom CA>, <Atom C>, <Atom O>, <Atom CB>, <Atom OG1>, <Atom CG2>]\n",
      "[<Atom N>, <Atom CA>, <Atom C>, <Atom O>, <Atom CB>, <Atom CG1>, <Atom CG2>]\n",
      "[<Atom N>, <Atom CA>, <Atom C>, <Atom O>, <Atom CB>]\n",
      "[<Atom N>, <Atom CA>, <Atom C>, <Atom O>, <Atom CB>, <Atom CG>, <Atom ND1>, <Atom CD2>, <Atom CE1>, <Atom NE2>]\n",
      "[<Atom N>, <Atom CA>, <Atom C>, <Atom O>, <Atom CB>, <Atom SG>]\n",
      "[<Atom N>, <Atom CA>, <Atom C>, <Atom O>, <Atom CB>, <Atom CG>, <Atom SD>, <Atom CE>]\n",
      "[<Atom N>, <Atom CA>, <Atom C>, <Atom O>, <Atom CB>, <Atom CG>, <Atom CD1>, <Atom CD2>, <Atom CE1>, <Atom CE2>, <Atom CZ>, <Atom OH>]\n",
      "[<Atom N>, <Atom CA>, <Atom C>, <Atom O>, <Atom CB>]\n",
      "[<Atom N>, <Atom CA>, <Atom C>, <Atom O>, <Atom CB>, <Atom CG1>, <Atom CG2>, <Atom CD1>]\n",
      "[<Atom N>, <Atom CA>, <Atom C>, <Atom O>, <Atom CB>, <Atom CG>, <Atom CD1>, <Atom CD2>]\n",
      "[<Atom N>, <Atom CA>, <Atom C>, <Atom O>, <Atom CB>, <Atom CG>, <Atom CD>, <Atom OE1>, <Atom NE2>]\n",
      "[<Atom N>, <Atom CA>, <Atom C>, <Atom O>, <Atom CB>, <Atom CG>, <Atom OD1>, <Atom ND2>]\n",
      "[<Atom N>, <Atom CA>, <Atom C>, <Atom O>, <Atom CB>, <Atom CG>, <Atom OD1>, <Atom ND2>]\n",
      "[<Atom N>, <Atom CA>, <Atom C>, <Atom O>, <Atom CB>, <Atom CG>, <Atom ND1>, <Atom CD2>, <Atom CE1>, <Atom NE2>]\n",
      "[<Atom N>, <Atom CA>, <Atom C>, <Atom O>, <Atom CB>, <Atom OG1>, <Atom CG2>]\n",
      "[<Atom N>, <Atom CA>, <Atom C>, <Atom O>, <Atom CB>, <Atom CG>, <Atom CD1>, <Atom CD2>]\n",
      "[<Atom N>, <Atom CA>, <Atom C>, <Atom O>, <Atom CB>, <Atom CG>, <Atom CD1>, <Atom CD2>, <Atom CE1>, <Atom CE2>, <Atom CZ>]\n",
      "[<Atom N>, <Atom CA>, <Atom C>, <Atom O>, <Atom CB>, <Atom OG1>, <Atom CG2>]\n",
      "[<Atom N>, <Atom CA>, <Atom C>, <Atom O>, <Atom CB>, <Atom CG>, <Atom OD1>, <Atom OD2>]\n",
      "[<Atom N>, <Atom CA>, <Atom C>, <Atom O>, <Atom CB>, <Atom CG>, <Atom CD1>, <Atom CD2>]\n",
      "[<Atom N>, <Atom CA>, <Atom C>, <Atom O>, <Atom CB>, <Atom CG>, <Atom CD>, <Atom OE1>, <Atom OE2>]\n",
      "[<Atom N>, <Atom CA>, <Atom C>, <Atom O>, <Atom CB>, <Atom CG>, <Atom CD>, <Atom NE>, <Atom CZ>, <Atom NH1>, <Atom NH2>]\n",
      "[<Atom N>, <Atom CA>, <Atom C>, <Atom O>, <Atom CB>, <Atom CG>, <Atom CD>, <Atom CE>, <Atom NZ>]\n",
      "[<Atom N>, <Atom CA>, <Atom C>, <Atom O>]\n",
      "[<Atom N>, <Atom CA>, <Atom C>, <Atom O>, <Atom CB>, <Atom CG>, <Atom CD1>, <Atom CD2>]\n",
      "[<Atom N>, <Atom CA>, <Atom C>, <Atom O>, <Atom CB>, <Atom CG>, <Atom CD1>, <Atom CD2>]\n",
      "[<Atom N>, <Atom CA>, <Atom C>, <Atom O>, <Atom CB>, <Atom CG1>, <Atom CG2>, <Atom CD1>]\n",
      "[<Atom N>, <Atom CA>, <Atom C>, <Atom O>, <Atom CB>]\n",
      "[<Atom N>, <Atom CA>, <Atom C>, <Atom O>, <Atom CB>, <Atom SG>]\n",
      "[<Atom N>, <Atom CA>, <Atom C>, <Atom O>, <Atom CB>, <Atom CG>, <Atom CD1>, <Atom CD2>]\n",
      "[<Atom N>, <Atom CA>, <Atom C>, <Atom O>, <Atom CB>, <Atom SG>]\n",
      "[<Atom N>, <Atom CA>, <Atom C>, <Atom O>, <Atom CB>, <Atom CG>, <Atom ND1>, <Atom CD2>, <Atom CE1>, <Atom NE2>]\n",
      "[<Atom N>, <Atom CA>, <Atom C>, <Atom O>, <Atom CB>, <Atom CG>, <Atom OD1>, <Atom OD2>]\n",
      "[<Atom N>, <Atom CA>, <Atom C>, <Atom O>, <Atom CB>, <Atom CG>, <Atom CD1>, <Atom CD2>]\n",
      "[<Atom N>, <Atom CA>, <Atom C>, <Atom O>, <Atom CB>, <Atom CG>, <Atom OD1>, <Atom OD2>]\n",
      "[<Atom N>, <Atom CA>, <Atom C>, <Atom O>, <Atom CB>, <Atom CG>, <Atom ND1>, <Atom CD2>, <Atom CE1>, <Atom NE2>]\n",
      "[<Atom N>, <Atom CA>, <Atom C>, <Atom O>, <Atom CB>, <Atom CG>, <Atom CD>, <Atom NE>, <Atom CZ>, <Atom NH1>, <Atom NH2>]\n",
      "[<Atom N>, <Atom CA>, <Atom C>, <Atom O>]\n",
      "[<Atom N>, <Atom CA>, <Atom C>, <Atom O>, <Atom CB>, <Atom CG>, <Atom CD1>, <Atom CD2>, <Atom CE1>, <Atom CE2>, <Atom CZ>]\n",
      "[<Atom N>, <Atom CA>, <Atom C>, <Atom O>, <Atom CB>, <Atom OG>]\n",
      "[<Atom N>, <Atom CA>, <Atom C>, <Atom O>, <Atom CB>, <Atom CG>, <Atom OD1>, <Atom ND2>]\n",
      "[<Atom N>, <Atom CA>, <Atom C>, <Atom O>, <Atom CB>, <Atom OG>]\n",
      "[<Atom N>, <Atom CA>, <Atom C>, <Atom O>, <Atom CB>, <Atom CG>, <Atom CD1>, <Atom CD2>, <Atom CE1>, <Atom CE2>, <Atom CZ>, <Atom OH>]\n",
      "[<Atom N>, <Atom CA>, <Atom C>, <Atom O>, <Atom CB>, <Atom CG>, <Atom CD1>, <Atom CD2>]\n",
      "[<Atom N>, <Atom CA>, <Atom C>, <Atom O>, <Atom CB>, <Atom CG>, <Atom CD>, <Atom OE1>, <Atom NE2>]\n",
      "[<Atom N>, <Atom CA>, <Atom C>, <Atom O>, <Atom CB>, <Atom CG>, <Atom CD>, <Atom CE>, <Atom NZ>]\n",
      "[<Atom N>, <Atom CA>, <Atom C>, <Atom O>, <Atom CB>, <Atom CG>, <Atom CD1>, <Atom CD2>, <Atom CE1>, <Atom CE2>, <Atom CZ>]\n",
      "[<Atom N>, <Atom CA>, <Atom C>, <Atom O>, <Atom CB>, <Atom CG>, <Atom OD1>, <Atom OD2>]\n",
      "[<Atom N>, <Atom CA>, <Atom C>, <Atom O>, <Atom CB>, <Atom CG>, <Atom ND1>, <Atom CD2>, <Atom CE1>, <Atom NE2>]\n",
      "[<Atom N>, <Atom CA>, <Atom C>, <Atom O>, <Atom CB>, <Atom CG>, <Atom CD>]\n",
      "[<Atom N>, <Atom CA>, <Atom C>, <Atom O>, <Atom CB>, <Atom CG>, <Atom CD1>, <Atom CD2>]\n",
      "[<Atom N>, <Atom CA>, <Atom C>, <Atom O>, <Atom CB>]\n",
      "[<Atom N>, <Atom CA>, <Atom C>, <Atom O>, <Atom CB>]\n",
      "[<Atom N>, <Atom CA>, <Atom C>, <Atom O>, <Atom CB>, <Atom CG>, <Atom CD1>, <Atom CD2>]\n",
      "[<Atom N>, <Atom CA>, <Atom C>, <Atom O>, <Atom CB>, <Atom CG>, <Atom CD1>, <Atom CD2>, <Atom CE1>, <Atom CE2>, <Atom CZ>, <Atom OH>]\n",
      "[<Atom N>, <Atom CA>, <Atom C>, <Atom O>, <Atom CB>, <Atom OG>]\n",
      "[<Atom N>, <Atom CA>, <Atom C>, <Atom O>, <Atom CB>, <Atom OG1>, <Atom CG2>]\n",
      "[<Atom N>, <Atom CA>, <Atom C>, <Atom O>, <Atom CB>, <Atom OG>]\n",
      "[<Atom N>, <Atom CA>, <Atom C>, <Atom O>, <Atom CB>, <Atom OG1>, <Atom CG2>]\n",
      "[<Atom N>, <Atom CA>, <Atom C>, <Atom O>, <Atom CB>, <Atom CG>, <Atom SD>, <Atom CE>]\n",
      "[<Atom N>, <Atom CA>, <Atom C>, <Atom O>, <Atom CB>, <Atom CG>, <Atom CD>, <Atom OE1>, <Atom OE2>]\n",
      "[<Atom N>, <Atom CA>, <Atom C>, <Atom O>, <Atom CB>, <Atom CG>, <Atom CD>, <Atom OE1>, <Atom NE2>]\n",
      "[<Atom N>, <Atom CA>, <Atom C>, <Atom O>, <Atom CB>, <Atom CG>, <Atom ND1>, <Atom CD2>, <Atom CE1>, <Atom NE2>]\n",
      "[<Atom N>, <Atom CA>, <Atom C>, <Atom O>, <Atom CB>, <Atom CG>, <Atom ND1>, <Atom CD2>, <Atom CE1>, <Atom NE2>]\n",
      "[<Atom N>, <Atom CA>, <Atom C>, <Atom O>, <Atom CB>, <Atom CG>, <Atom CD1>, <Atom CD2>, <Atom CE1>, <Atom CE2>, <Atom CZ>]\n",
      "[<Atom N>, <Atom CA>, <Atom C>, <Atom O>, <Atom CB>, <Atom OG>]\n",
      "[<Atom N>, <Atom CA>, <Atom C>, <Atom O>, <Atom CB>, <Atom CG>, <Atom CD>, <Atom OE1>, <Atom NE2>]\n",
      "[<Atom N>, <Atom CA>, <Atom C>, <Atom O>, <Atom CB>, <Atom OG1>, <Atom CG2>]\n",
      "[<Atom N>, <Atom CA>, <Atom C>, <Atom O>, <Atom CB>, <Atom CG1>, <Atom CG2>]\n",
      "[<Atom N>, <Atom CA>, <Atom C>, <Atom O>, <Atom CB>, <Atom OG>]\n",
      "[<Atom N>, <Atom CA>, <Atom C>, <Atom O>, <Atom CB>, <Atom CG1>, <Atom CG2>, <Atom CD1>]\n",
      "[<Atom N>, <Atom CA>, <Atom C>, <Atom O>, <Atom CB>, <Atom CG>, <Atom CD1>, <Atom CD2>]\n",
      "[<Atom N>, <Atom CA>, <Atom C>, <Atom O>, <Atom CB>, <Atom CG>, <Atom CD>, <Atom OE1>, <Atom NE2>]\n",
      "[<Atom N>, <Atom CA>, <Atom C>, <Atom O>, <Atom CB>, <Atom CG>, <Atom CD1>, <Atom CD2>]\n",
      "[<Atom N>, <Atom CA>, <Atom C>, <Atom O>, <Atom CB>, <Atom CG>, <Atom CD>, <Atom OE1>, <Atom OE2>]\n",
      "[<Atom N>, <Atom CA>, <Atom C>, <Atom O>]\n",
      "[<Atom N>, <Atom CA>, <Atom C>, <Atom O>, <Atom CB>, <Atom CG>, <Atom ND1>, <Atom CD2>, <Atom CE1>, <Atom NE2>]\n",
      "[<Atom N>, <Atom CA>, <Atom C>, <Atom O>, <Atom CB>, <Atom CG>, <Atom OD1>, <Atom ND2>]\n",
      "[<Atom N>, <Atom CA>, <Atom C>, <Atom O>, <Atom CB>, <Atom CG1>, <Atom CG2>, <Atom CD1>]\n",
      "[<Atom N>, <Atom CA>, <Atom C>, <Atom O>, <Atom CB>, <Atom CG>, <Atom CD1>, <Atom CD2>, <Atom CE1>, <Atom CE2>, <Atom CZ>]\n",
      "[<Atom N>, <Atom CA>, <Atom C>, <Atom O>, <Atom CB>, <Atom OG>]\n",
      "[<Atom N>, <Atom CA>, <Atom C>, <Atom O>, <Atom CB>, <Atom OG1>, <Atom CG2>]\n",
      "[<Atom N>, <Atom CA>, <Atom C>, <Atom O>, <Atom CB>, <Atom CG>, <Atom CD1>, <Atom CD2>]\n",
      "[<Atom N>, <Atom CA>, <Atom C>, <Atom O>, <Atom CB>, <Atom OG>]\n",
      "[<Atom N>, <Atom CA>, <Atom C>, <Atom O>, <Atom CB>, <Atom OG>]\n",
      "[<Atom N>, <Atom CA>, <Atom C>, <Atom O>, <Atom CB>, <Atom OG>]\n",
      "[<Atom N>, <Atom CA>, <Atom C>, <Atom O>, <Atom CB>, <Atom CG>, <Atom CD>, <Atom OE1>, <Atom OE2>]\n",
      "[<Atom N>, <Atom CA>, <Atom C>, <Atom O>, <Atom CB>, <Atom CG>, <Atom CD1>, <Atom CD2>, <Atom CE1>, <Atom CE2>, <Atom CZ>, <Atom OH>]\n",
      "[<Atom N>, <Atom CA>, <Atom C>, <Atom O>, <Atom CB>, <Atom CG>, <Atom CD>, <Atom OE1>, <Atom OE2>]\n",
      "[<Atom N>, <Atom CA>, <Atom C>, <Atom O>, <Atom CB>, <Atom CG>, <Atom CD>, <Atom OE1>, <Atom NE2>]\n",
      "[<Atom N>, <Atom CA>, <Atom C>, <Atom O>, <Atom CB>, <Atom CG1>, <Atom CG2>]\n",
      "[<Atom N>, <Atom CA>, <Atom C>, <Atom O>, <Atom CB>, <Atom CG>, <Atom CD1>, <Atom CD2>]\n",
      "[<Atom N>, <Atom CA>, <Atom C>, <Atom O>, <Atom CB>, <Atom CG>, <Atom CD>, <Atom OE1>, <Atom OE2>]\n",
      "[<Atom N>, <Atom CA>, <Atom C>, <Atom O>, <Atom CB>, <Atom CG1>, <Atom CG2>, <Atom CD1>]\n",
      "[<Atom N>, <Atom CA>, <Atom C>, <Atom O>, <Atom CB>, <Atom CG1>, <Atom CG2>, <Atom CD1>]\n",
      "[<Atom N>, <Atom CA>, <Atom C>, <Atom O>, <Atom CB>, <Atom CG>, <Atom CD>, <Atom NE>, <Atom CZ>, <Atom NH1>, <Atom NH2>]\n",
      "[<Atom N>, <Atom CA>, <Atom C>, <Atom O>, <Atom CB>, <Atom CG>, <Atom CD>, <Atom CE>, <Atom NZ>]\n",
      "[<Atom N>, <Atom CA>, <Atom C>, <Atom O>, <Atom CB>]\n",
      "[<Atom N>, <Atom CA>, <Atom C>, <Atom O>, <Atom CB>, <Atom CG1>, <Atom CG2>, <Atom CD1>]\n",
      "[<Atom N>, <Atom CA>, <Atom C>, <Atom O>, <Atom CB>, <Atom CG1>, <Atom CG2>, <Atom CD1>]\n",
      "[<Atom N>, <Atom CA>, <Atom C>, <Atom O>, <Atom CB>]\n",
      "[<Atom N>, <Atom CA>, <Atom C>, <Atom O>, <Atom CB>, <Atom OG1>, <Atom CG2>]\n",
      "[<Atom N>, <Atom CA>, <Atom C>, <Atom O>, <Atom CB>, <Atom CG>, <Atom OD1>, <Atom OD2>]\n",
      "[<Atom N>, <Atom CA>, <Atom C>, <Atom O>, <Atom CB>, <Atom CG>, <Atom CD1>, <Atom CD2>]\n",
      "[<Atom N>, <Atom CA>, <Atom C>, <Atom O>, <Atom CB>]\n",
      "[<Atom N>, <Atom CA>, <Atom C>, <Atom O>, <Atom CB>, <Atom CG>, <Atom CD1>, <Atom CD2>]\n",
      "[<Atom N>, <Atom CA>, <Atom C>, <Atom O>, <Atom CB>, <Atom CG>, <Atom CD1>, <Atom CD2>, <Atom CE1>, <Atom CE2>, <Atom CZ>, <Atom OH>]\n",
      "[<Atom N>, <Atom CA>, <Atom C>, <Atom O>, <Atom CB>, <Atom CG>, <Atom CD1>, <Atom CD2>, <Atom CE1>, <Atom CE2>, <Atom CZ>]\n",
      "[<Atom N>, <Atom CA>, <Atom C>, <Atom O>]\n",
      "[<Atom N>, <Atom CA>, <Atom C>, <Atom O>, <Atom CB>, <Atom CG>, <Atom OD1>, <Atom ND2>]\n",
      "[<Atom N>, <Atom CA>, <Atom C>, <Atom O>, <Atom CB>, <Atom CG>, <Atom CD>, <Atom NE>, <Atom CZ>, <Atom NH1>, <Atom NH2>]\n",
      "[<Atom N>, <Atom CA>, <Atom C>, <Atom O>, <Atom CB>, <Atom CG>, <Atom CD>, <Atom CE>, <Atom NZ>]\n",
      "[<Atom N>, <Atom CA>, <Atom C>, <Atom O>, <Atom CB>, <Atom CG>, <Atom CD>, <Atom OE1>, <Atom NE2>]\n",
      "[<Atom N>, <Atom CA>, <Atom C>, <Atom O>, <Atom CB>, <Atom CG>, <Atom CD1>, <Atom CD2>]\n",
      "[<Atom N>, <Atom CA>, <Atom C>, <Atom O>, <Atom CB>, <Atom CG>, <Atom CD>, <Atom OE1>, <Atom OE2>]\n",
      "[<Atom N>, <Atom CA>, <Atom C>, <Atom O>, <Atom CB>, <Atom CG>, <Atom CD>, <Atom OE1>, <Atom OE2>]\n",
      "[<Atom N>, <Atom CA>, <Atom C>, <Atom O>, <Atom CB>, <Atom CG>, <Atom SD>, <Atom CE>]\n",
      "[<Atom N>, <Atom CA>, <Atom C>, <Atom O>, <Atom CB>, <Atom CG>, <Atom CD1>, <Atom CD2>, <Atom CE1>, <Atom CE2>, <Atom CZ>, <Atom OH>]\n",
      "[<Atom N>, <Atom CA>, <Atom C>, <Atom O>, <Atom CB>, <Atom CG>, <Atom CD>, <Atom OE1>, <Atom NE2>]\n",
      "[<Atom N>, <Atom CA>, <Atom C>, <Atom O>, <Atom CB>, <Atom OG1>, <Atom CG2>]\n",
      "[<Atom N>, <Atom CA>, <Atom C>, <Atom O>]\n",
      "[<Atom N>, <Atom CA>, <Atom C>, <Atom O>, <Atom CB>, <Atom OG>]\n",
      "[<Atom N>, <Atom CA>, <Atom C>, <Atom O>, <Atom CB>, <Atom CG>, <Atom CD1>, <Atom CD2>]\n",
      "[<Atom N>, <Atom CA>, <Atom C>, <Atom O>, <Atom CB>, <Atom CG>, <Atom OD1>, <Atom ND2>]\n",
      "[<Atom N>, <Atom CA>, <Atom C>, <Atom O>, <Atom CB>, <Atom CG>, <Atom CD1>, <Atom CD2>]\n",
      "[<Atom N>, <Atom CA>, <Atom C>, <Atom O>, <Atom CB>, <Atom CG>, <Atom OD1>, <Atom ND2>]\n",
      "[<Atom N>, <Atom CA>, <Atom C>, <Atom O>, <Atom CB>, <Atom CG>, <Atom OD1>, <Atom ND2>]\n",
      "[<Atom N>, <Atom CA>, <Atom C>, <Atom O>, <Atom CB>, <Atom CG>, <Atom CD>, <Atom OE1>, <Atom NE2>]\n",
      "[<Atom N>, <Atom CA>, <Atom C>, <Atom O>, <Atom CB>, <Atom OG>]\n",
      "[<Atom N>, <Atom CA>, <Atom C>, <Atom O>, <Atom CB>, <Atom CG>, <Atom ND1>, <Atom CD2>, <Atom CE1>, <Atom NE2>]\n",
      "[<Atom N>, <Atom CA>, <Atom C>, <Atom O>, <Atom CB>, <Atom CG>, <Atom CD>, <Atom NE>, <Atom CZ>, <Atom NH1>, <Atom NH2>]\n",
      "[<Atom N>, <Atom CA>, <Atom C>, <Atom O>, <Atom CB>, <Atom CG>, <Atom OD1>, <Atom OD2>]\n",
      "[<Atom N>, <Atom CA>, <Atom C>, <Atom O>, <Atom CB>, <Atom CG>, <Atom CD>, <Atom NE>, <Atom CZ>, <Atom NH1>, <Atom NH2>]\n",
      "[<Atom N>, <Atom CA>, <Atom C>, <Atom O>, <Atom CB>, <Atom CG1>, <Atom CG2>]\n",
      "[<Atom N>, <Atom CA>, <Atom C>, <Atom O>, <Atom CB>, <Atom CG1>, <Atom CG2>, <Atom CD1>]\n",
      "[<Atom N>, <Atom CA>, <Atom C>, <Atom O>]\n",
      "[<Atom N>, <Atom CA>, <Atom C>, <Atom O>, <Atom CB>, <Atom CG>, <Atom CD1>, <Atom CD2>]\n",
      "[<Atom N>, <Atom CA>, <Atom C>, <Atom O>, <Atom CB>, <Atom CG>, <Atom SD>, <Atom CE>]\n",
      "[<Atom N>, <Atom CA>, <Atom C>, <Atom O>, <Atom CB>, <Atom CG>, <Atom SD>, <Atom CE>]\n",
      "[<Atom N>, <Atom CA>, <Atom C>, <Atom O>, <Atom CB>, <Atom OG1>, <Atom CG2>]\n",
      "[<Atom N>, <Atom CA>, <Atom C>, <Atom O>, <Atom CB>]\n",
      "[<Atom N>, <Atom CA>, <Atom C>, <Atom O>, <Atom CB>, <Atom SG>]\n",
      "[<Atom N>, <Atom CA>, <Atom C>, <Atom O>, <Atom CB>, <Atom CG>, <Atom OD1>, <Atom OD2>]\n",
      "[<Atom N>, <Atom CA>, <Atom C>, <Atom O>, <Atom CB>, <Atom CG>, <Atom CD1>, <Atom CD2>]\n",
      "[<Atom N>, <Atom CA>, <Atom C>, <Atom O>, <Atom CB>, <Atom SG>]\n",
      "[<Atom N>, <Atom CA>, <Atom C>, <Atom O>, <Atom CB>, <Atom OG>]\n",
      "[<Atom N>, <Atom CA>, <Atom C>, <Atom O>, <Atom CB>, <Atom CG1>, <Atom CG2>]\n",
      "[<Atom N>, <Atom CA>, <Atom C>, <Atom O>, <Atom CB>, <Atom OG1>, <Atom CG2>]\n",
      "[<Atom N>, <Atom CA>, <Atom C>, <Atom O>, <Atom CB>, <Atom CG>, <Atom CD>, <Atom CE>, <Atom NZ>]\n",
      "[<Atom N>, <Atom CA>, <Atom C>, <Atom O>, <Atom CB>, <Atom CG>, <Atom CD1>, <Atom CD2>]\n",
      "[<Atom N>, <Atom CA>, <Atom C>, <Atom O>, <Atom CB>, <Atom CG>, <Atom CD1>, <Atom CD2>, <Atom NE1>, <Atom CE2>, <Atom CE3>, <Atom CZ2>, <Atom CZ3>, <Atom CH2>]\n",
      "[<Atom N>, <Atom CA>, <Atom C>, <Atom O>, <Atom CB>, <Atom CG>, <Atom CD>]\n",
      "[<Atom N>, <Atom CA>, <Atom C>, <Atom O>, <Atom CB>, <Atom CG1>, <Atom CG2>]\n",
      "[<Atom N>, <Atom CA>, <Atom C>, <Atom O>, <Atom CB>, <Atom OG1>, <Atom CG2>]\n",
      "[<Atom N>, <Atom CA>, <Atom C>, <Atom O>, <Atom CB>, <Atom CG>, <Atom CD>, <Atom CE>, <Atom NZ>]\n",
      "[<Atom N>, <Atom CA>, <Atom C>, <Atom O>, <Atom CB>, <Atom CG>, <Atom CD1>, <Atom CD2>]\n",
      "[<Atom N>, <Atom CA>, <Atom C>, <Atom O>, <Atom CB>, <Atom OG1>, <Atom CG2>]\n",
      "[<Atom N>, <Atom CA>, <Atom C>, <Atom O>, <Atom CB>]\n",
      "[<Atom N>, <Atom CA>, <Atom C>, <Atom O>, <Atom CB>, <Atom CG>, <Atom OD1>, <Atom ND2>]\n",
      "[<Atom N>, <Atom CA>, <Atom C>, <Atom O>, <Atom CB>, <Atom CG>, <Atom OD1>, <Atom OD2>]\n",
      "[<Atom N>, <Atom CA>, <Atom C>, <Atom O>, <Atom CB>, <Atom CG1>, <Atom CG2>, <Atom CD1>]\n",
      "[<Atom N>, <Atom CA>, <Atom C>, <Atom O>, <Atom CB>, <Atom CG>, <Atom CD1>, <Atom CD2>, <Atom CE1>, <Atom CE2>, <Atom CZ>, <Atom OH>]\n",
      "[<Atom N>, <Atom CA>, <Atom C>, <Atom O>, <Atom CB>]\n",
      "[<Atom N>, <Atom CA>, <Atom C>, <Atom O>, <Atom CB>, <Atom CG>, <Atom CD>, <Atom OE1>, <Atom OE2>]\n",
      "[<Atom N>, <Atom CA>, <Atom C>, <Atom O>, <Atom CB>, <Atom CG>, <Atom CD1>, <Atom CD2>, <Atom CE1>, <Atom CE2>, <Atom CZ>]\n",
      "[<Atom N>, <Atom CA>, <Atom C>, <Atom O>, <Atom CB>, <Atom CG>, <Atom CD1>, <Atom CD2>, <Atom NE1>, <Atom CE2>, <Atom CE3>, <Atom CZ2>, <Atom CZ3>, <Atom CH2>]\n",
      "[<Atom N>, <Atom CA>, <Atom C>, <Atom O>, <Atom CB>]\n",
      "[<Atom N>, <Atom CA>, <Atom C>, <Atom O>, <Atom CB>, <Atom CG>, <Atom CD>, <Atom OE1>, <Atom OE2>]\n",
      "[<Atom N>, <Atom CA>, <Atom C>, <Atom O>]\n",
      "[<Atom N>, <Atom CA>, <Atom C>, <Atom O>, <Atom CB>, <Atom CG>, <Atom OD1>, <Atom OD2>]\n",
      "[<Atom N>, <Atom CA>, <Atom C>, <Atom O>, <Atom CB>, <Atom CG>, <Atom CD>, <Atom OE1>, <Atom OE2>]\n",
      "[<Atom N>, <Atom CA>, <Atom C>, <Atom O>, <Atom CB>, <Atom CG>, <Atom SD>, <Atom CE>]\n",
      "[<Atom N>, <Atom CA>, <Atom C>, <Atom O>, <Atom CB>, <Atom CG>, <Atom CD>, <Atom CE>, <Atom NZ>]\n",
      "[<Atom N>, <Atom CA>, <Atom C>, <Atom O>, <Atom CB>, <Atom CG>, <Atom CD>, <Atom CE>, <Atom NZ>]\n",
      "[<Atom N>, <Atom CA>, <Atom C>, <Atom O>, <Atom CB>, <Atom CG>, <Atom CD1>, <Atom CD2>]\n",
      "[<Atom N>, <Atom CA>, <Atom C>, <Atom O>]\n",
      "[<Atom N>, <Atom CA>, <Atom C>, <Atom O>, <Atom CB>, <Atom CG1>, <Atom CG2>, <Atom CD1>]\n",
      "[<Atom N>, <Atom CA>, <Atom C>, <Atom O>, <Atom CB>, <Atom CG>, <Atom CD>, <Atom OE1>, <Atom NE2>]\n",
      "[<Atom N>, <Atom CA>, <Atom C>, <Atom O>, <Atom CB>, <Atom CG>, <Atom CD>]\n",
      "[<Atom N>, <Atom CA>, <Atom C>, <Atom O>, <Atom CB>, <Atom CG1>, <Atom CG2>, <Atom CD1>]\n",
      "[<Atom N>, <Atom CA>, <Atom C>, <Atom O>, <Atom CB>, <Atom CG>, <Atom CD>]\n",
      "[<Atom N>, <Atom CA>, <Atom C>, <Atom O>, <Atom CB>, <Atom CG>, <Atom SD>, <Atom CE>]\n",
      "[<Atom N>, <Atom CA>, <Atom C>, <Atom O>, <Atom CB>, <Atom CG>, <Atom SD>, <Atom CE>]\n",
      "[<Atom N>, <Atom CA>, <Atom C>, <Atom O>, <Atom CB>, <Atom CG>, <Atom OD1>, <Atom OD2>]\n",
      "[<Atom N>, <Atom CA>, <Atom C>, <Atom O>, <Atom CB>, <Atom CG>, <Atom CD>, <Atom NE>, <Atom CZ>, <Atom NH1>, <Atom NH2>]\n",
      "[<Atom N>, <Atom CA>, <Atom C>, <Atom O>, <Atom CB>, <Atom CG>, <Atom OD1>, <Atom OD2>]\n",
      "[<Atom N>, <Atom CA>, <Atom C>, <Atom O>, <Atom CB>, <Atom CG>, <Atom CD>, <Atom CE>, <Atom NZ>]\n",
      "[<Atom N>, <Atom CA>, <Atom C>, <Atom O>, <Atom CB>, <Atom CG>, <Atom CD>, <Atom CE>, <Atom NZ>]\n",
      "[<Atom N>, <Atom CA>, <Atom C>, <Atom O>, <Atom CB>, <Atom CG>, <Atom OD1>, <Atom OD2>]\n",
      "[<Atom N>, <Atom CA>, <Atom C>, <Atom O>, <Atom CB>, <Atom CG>, <Atom CD>, <Atom OE1>, <Atom OE2>]\n",
      "[<Atom N>, <Atom CA>, <Atom C>, <Atom O>, <Atom CB>, <Atom CG1>, <Atom CG2>]\n",
      "[<Atom N>, <Atom CA>, <Atom C>, <Atom O>, <Atom CB>, <Atom CG>, <Atom CD>]\n",
      "[<Atom N>, <Atom CA>, <Atom C>, <Atom O>, <Atom CB>, <Atom CG>, <Atom CD>, <Atom OE1>, <Atom NE2>]\n",
      "[<Atom N>, <Atom CA>, <Atom C>, <Atom O>]\n",
      "[<Atom N>, <Atom CA>, <Atom C>, <Atom O>, <Atom CB>, <Atom CG>, <Atom CD>, <Atom OE1>, <Atom NE2>]\n",
      "[<Atom N>, <Atom CA>, <Atom C>, <Atom O>, <Atom CB>, <Atom CG>, <Atom CD1>, <Atom CD2>]\n",
      "[<Atom N>, <Atom CA>, <Atom C>, <Atom O>]\n",
      "[<Atom N>, <Atom CA>, <Atom C>, <Atom O>, <Atom CB>, <Atom CG>, <Atom CD1>, <Atom CD2>, <Atom CE1>, <Atom CE2>, <Atom CZ>]\n",
      "[<Atom N>, <Atom CA>, <Atom C>, <Atom O>, <Atom CB>, <Atom CG>, <Atom CD1>, <Atom CD2>, <Atom CE1>, <Atom CE2>, <Atom CZ>, <Atom OH>]\n",
      "[<Atom N>, <Atom CA>, <Atom C>, <Atom O>, <Atom CB>, <Atom CG>, <Atom OD1>, <Atom ND2>]\n",
      "[<Atom N>, <Atom CA>, <Atom C>, <Atom O>, <Atom CB>]\n",
      "[<Atom N>, <Atom CA>, <Atom C>, <Atom O>, <Atom CB>, <Atom CG1>, <Atom CG2>]\n",
      "[<Atom N>, <Atom CA>, <Atom C>, <Atom O>, <Atom CB>]\n",
      "[<Atom N>, <Atom CA>, <Atom C>, <Atom O>, <Atom CB>, <Atom CG1>, <Atom CG2>, <Atom CD1>]\n",
      "[<Atom N>, <Atom CA>, <Atom C>, <Atom O>, <Atom CB>, <Atom CG>, <Atom CD>]\n",
      "[<Atom N>, <Atom CA>, <Atom C>, <Atom O>, <Atom CB>, <Atom SG>]\n",
      "[<Atom N>, <Atom CA>, <Atom C>, <Atom O>, <Atom CB>, <Atom CG>, <Atom CD1>, <Atom CD2>, <Atom CE1>, <Atom CE2>, <Atom CZ>, <Atom OH>]\n",
      "[<Atom N>, <Atom CA>, <Atom C>, <Atom O>, <Atom CB>, <Atom OG1>, <Atom CG2>]\n",
      "[<Atom N>, <Atom CA>, <Atom C>, <Atom O>, <Atom CB>, <Atom OG1>, <Atom CG2>]\n",
      "[<Atom N>, <Atom CA>, <Atom C>, <Atom O>, <Atom CB>, <Atom CG>, <Atom CD1>, <Atom CD2>]\n",
      "[<Atom N>, <Atom CA>, <Atom C>, <Atom O>, <Atom CB>, <Atom OG1>, <Atom CG2>]\n",
      "[<Atom N>, <Atom CA>, <Atom C>, <Atom O>, <Atom CB>, <Atom CG>, <Atom CD>, <Atom OE1>, <Atom NE2>]\n",
      "[<Atom N>, <Atom CA>, <Atom C>, <Atom O>, <Atom CB>, <Atom CG1>, <Atom CG2>, <Atom CD1>]\n",
      "[<Atom N>, <Atom CA>, <Atom C>, <Atom O>, <Atom CB>, <Atom CG>, <Atom CD1>, <Atom CD2>]\n",
      "[<Atom N>, <Atom CA>, <Atom C>, <Atom O>, <Atom CB>, <Atom CG>, <Atom CD>]\n",
      "[<Atom N>, <Atom CA>, <Atom C>, <Atom O>, <Atom CB>, <Atom CG>, <Atom CD>]\n",
      "[<Atom N>, <Atom CA>, <Atom C>, <Atom O>, <Atom CB>, <Atom OG1>, <Atom CG2>]\n",
      "[<Atom N>, <Atom CA>, <Atom C>, <Atom O>, <Atom CB>, <Atom CG>, <Atom CD>, <Atom OE1>, <Atom OE2>]\n",
      "[<Atom N>, <Atom CA>, <Atom C>, <Atom O>, <Atom CB>, <Atom CG>, <Atom CD>]\n",
      "[<Atom N>, <Atom CA>, <Atom C>, <Atom O>, <Atom CB>, <Atom CG>, <Atom CD1>, <Atom CD2>]\n",
      "[<Atom N>, <Atom CA>, <Atom C>, <Atom O>, <Atom CB>, <Atom CG>, <Atom CD1>, <Atom CD2>]\n",
      "[<Atom N>, <Atom CA>, <Atom C>, <Atom O>, <Atom CB>, <Atom CG>, <Atom CD>, <Atom CE>, <Atom NZ>]\n",
      "[<Atom N>, <Atom CA>, <Atom C>, <Atom O>, <Atom CB>]\n",
      "[<Atom N>, <Atom CA>, <Atom C>, <Atom O>, <Atom CB>, <Atom SG>]\n",
      "[<Atom N>, <Atom CA>, <Atom CA>, <Atom C>, <Atom O>, <Atom CB>, <Atom CB>, <Atom CG>, <Atom CG>, <Atom CD>, <Atom CD>, <Atom NE>, <Atom NE>, <Atom CZ>, <Atom CZ>, <Atom NH1>, <Atom NH1>, <Atom NH2>, <Atom NH2>]\n",
      "[<Atom N>, <Atom CA>, <Atom C>, <Atom O>, <Atom CB>, <Atom CG>, <Atom OD1>, <Atom OD2>]\n",
      "[<Atom N>, <Atom CA>, <Atom C>, <Atom O>, <Atom CB>, <Atom CG>, <Atom OD1>, <Atom ND2>]\n",
      "[<Atom N>, <Atom CA>, <Atom C>, <Atom O>, <Atom CB>, <Atom CG>, <Atom CD1>, <Atom CD2>]\n",
      "[<Atom N>, <Atom CA>, <Atom C>, <Atom O>, <Atom CB>, <Atom OG>]\n",
      "[<Atom N>, <Atom CA>, <Atom C>, <Atom O>, <Atom CB>, <Atom CG>, <Atom CD>, <Atom OE1>, <Atom NE2>]\n",
      "[<Atom N>, <Atom CA>, <Atom C>, <Atom O>, <Atom CB>, <Atom CG>, <Atom CD1>, <Atom CD2>, <Atom NE1>, <Atom CE2>, <Atom CE3>, <Atom CZ2>, <Atom CZ3>, <Atom CH2>]\n",
      "[<Atom N>, <Atom CA>, <Atom C>, <Atom O>, <Atom CB>, <Atom CG>, <Atom CD>, <Atom OE1>, <Atom OE2>]\n",
      "[<Atom N>, <Atom CA>, <Atom C>, <Atom O>, <Atom CB>, <Atom CG>, <Atom CD>, <Atom CE>, <Atom NZ>]\n",
      "[<Atom N>, <Atom CA>, <Atom C>, <Atom O>, <Atom CB>, <Atom CG1>, <Atom CG2>]\n",
      "[<Atom N>, <Atom CA>, <Atom C>, <Atom O>, <Atom CB>, <Atom CG1>, <Atom CG2>, <Atom CD1>]\n",
      "[<Atom N>, <Atom CA>, <Atom C>, <Atom O>, <Atom CB>, <Atom CG>, <Atom CD>, <Atom NE>, <Atom CZ>, <Atom NH1>, <Atom NH2>]\n",
      "[<Atom N>, <Atom CA>, <Atom C>, <Atom O>]\n",
      "[<Atom N>, <Atom CA>, <Atom C>, <Atom O>, <Atom CB>, <Atom CG>, <Atom CD>, <Atom OE1>, <Atom OE2>]\n",
      "[<Atom N>, <Atom CA>, <Atom C>, <Atom O>, <Atom CB>, <Atom CG>, <Atom CD>, <Atom OE1>, <Atom OE2>]\n",
      "[<Atom ZN>]\n",
      "[<Atom MG>]\n",
      "[<Atom C12>, <Atom C13>, <Atom C14>, <Atom C16>, <Atom C19>, <Atom C20>, <Atom C22>, <Atom C23>, <Atom C24>, <Atom C1>, <Atom C2>, <Atom C3>, <Atom C4>, <Atom C5>, <Atom C6>, <Atom C7>, <Atom C11>, <Atom C9>, <Atom C25>, <Atom N10>, <Atom N8>, <Atom N18>, <Atom N17>, <Atom N21>, <Atom N15>]\n",
      "[<Atom O>]\n",
      "[<Atom O>]\n",
      "[<Atom O>]\n",
      "[<Atom O>]\n",
      "[<Atom O>]\n",
      "[<Atom O>]\n",
      "[<Atom O>]\n",
      "[<Atom O>]\n",
      "[<Atom O>]\n",
      "[<Atom O>]\n",
      "[<Atom O>]\n",
      "[<Atom O>]\n",
      "[<Atom O>]\n",
      "[<Atom O>]\n",
      "[<Atom O>]\n",
      "[<Atom O>]\n",
      "[<Atom O>]\n",
      "[<Atom O>]\n",
      "[<Atom O>]\n",
      "[<Atom O>]\n"
     ]
    }
   ],
   "source": [
    "for residue in a.get_residues():\n",
    "    print(residue.get_unpacked_list())"
   ]
  },
  {
   "cell_type": "code",
   "execution_count": 183,
   "metadata": {},
   "outputs": [
    {
     "ename": "AttributeError",
     "evalue": "'Atom' object has no attribute 'disordered_get_list'",
     "output_type": "error",
     "traceback": [
      "\u001b[0;31m---------------------------------------------------------------------------\u001b[0m",
      "\u001b[0;31mAttributeError\u001b[0m                            Traceback (most recent call last)",
      "\u001b[0;32m<ipython-input-183-6f2ba30fdbbc>\u001b[0m in \u001b[0;36m<module>\u001b[0;34m\u001b[0m\n\u001b[1;32m      1\u001b[0m \u001b[0mio\u001b[0m \u001b[0;34m=\u001b[0m \u001b[0mPDB\u001b[0m\u001b[0;34m.\u001b[0m\u001b[0mPDBIO\u001b[0m\u001b[0;34m(\u001b[0m\u001b[0;34m)\u001b[0m\u001b[0;34m\u001b[0m\u001b[0;34m\u001b[0m\u001b[0m\n\u001b[1;32m      2\u001b[0m \u001b[0mio\u001b[0m\u001b[0;34m.\u001b[0m\u001b[0mset_structure\u001b[0m\u001b[0;34m(\u001b[0m\u001b[0ma\u001b[0m\u001b[0;34m)\u001b[0m\u001b[0;34m\u001b[0m\u001b[0;34m\u001b[0m\u001b[0m\n\u001b[0;32m----> 3\u001b[0;31m \u001b[0mio\u001b[0m\u001b[0;34m.\u001b[0m\u001b[0msave\u001b[0m\u001b[0;34m(\u001b[0m\u001b[0;34mf\"dataset/5SIJ/protein.pdb\"\u001b[0m\u001b[0;34m,\u001b[0m \u001b[0mAAOnly\u001b[0m\u001b[0;34m(\u001b[0m\u001b[0;34m)\u001b[0m\u001b[0;34m)\u001b[0m\u001b[0;34m\u001b[0m\u001b[0;34m\u001b[0m\u001b[0m\n\u001b[0m",
      "\u001b[0;32m~/miniconda3/envs/analysis/lib/python3.7/site-packages/Bio/PDB/PDBIO.py\u001b[0m in \u001b[0;36msave\u001b[0;34m(self, file, select, write_end, preserve_atom_numbering)\u001b[0m\n\u001b[1;32m    221\u001b[0m                     \u001b[0mresname\u001b[0m \u001b[0;34m=\u001b[0m \u001b[0mresidue\u001b[0m\u001b[0;34m.\u001b[0m\u001b[0mget_resname\u001b[0m\u001b[0;34m(\u001b[0m\u001b[0;34m)\u001b[0m\u001b[0;34m\u001b[0m\u001b[0;34m\u001b[0m\u001b[0m\n\u001b[1;32m    222\u001b[0m                     \u001b[0msegid\u001b[0m \u001b[0;34m=\u001b[0m \u001b[0mresidue\u001b[0m\u001b[0;34m.\u001b[0m\u001b[0mget_segid\u001b[0m\u001b[0;34m(\u001b[0m\u001b[0;34m)\u001b[0m\u001b[0;34m\u001b[0m\u001b[0;34m\u001b[0m\u001b[0m\n\u001b[0;32m--> 223\u001b[0;31m                     \u001b[0;32mfor\u001b[0m \u001b[0matom\u001b[0m \u001b[0;32min\u001b[0m \u001b[0mresidue\u001b[0m\u001b[0;34m.\u001b[0m\u001b[0mget_unpacked_list\u001b[0m\u001b[0;34m(\u001b[0m\u001b[0;34m)\u001b[0m\u001b[0;34m:\u001b[0m\u001b[0;34m\u001b[0m\u001b[0;34m\u001b[0m\u001b[0m\n\u001b[0m\u001b[1;32m    224\u001b[0m                         \u001b[0;32mif\u001b[0m \u001b[0mselect\u001b[0m\u001b[0;34m.\u001b[0m\u001b[0maccept_atom\u001b[0m\u001b[0;34m(\u001b[0m\u001b[0matom\u001b[0m\u001b[0;34m)\u001b[0m\u001b[0;34m:\u001b[0m\u001b[0;34m\u001b[0m\u001b[0;34m\u001b[0m\u001b[0m\n\u001b[1;32m    225\u001b[0m                             \u001b[0mchain_residues_written\u001b[0m \u001b[0;34m=\u001b[0m \u001b[0;36m1\u001b[0m\u001b[0;34m\u001b[0m\u001b[0;34m\u001b[0m\u001b[0m\n",
      "\u001b[0;32m~/miniconda3/envs/analysis/lib/python3.7/site-packages/Bio/PDB/Residue.py\u001b[0m in \u001b[0;36mget_unpacked_list\u001b[0;34m(self)\u001b[0m\n\u001b[1;32m     81\u001b[0m         \u001b[0;32mfor\u001b[0m \u001b[0matom\u001b[0m \u001b[0;32min\u001b[0m \u001b[0matom_list\u001b[0m\u001b[0;34m:\u001b[0m\u001b[0;34m\u001b[0m\u001b[0;34m\u001b[0m\u001b[0m\n\u001b[1;32m     82\u001b[0m             \u001b[0;32mif\u001b[0m \u001b[0matom\u001b[0m\u001b[0;34m.\u001b[0m\u001b[0mis_disordered\u001b[0m\u001b[0;34m(\u001b[0m\u001b[0;34m)\u001b[0m\u001b[0;34m:\u001b[0m\u001b[0;34m\u001b[0m\u001b[0;34m\u001b[0m\u001b[0m\n\u001b[0;32m---> 83\u001b[0;31m                 \u001b[0mundisordered_atom_list\u001b[0m \u001b[0;34m=\u001b[0m \u001b[0;34m(\u001b[0m\u001b[0mundisordered_atom_list\u001b[0m \u001b[0;34m+\u001b[0m \u001b[0matom\u001b[0m\u001b[0;34m.\u001b[0m\u001b[0mdisordered_get_list\u001b[0m\u001b[0;34m(\u001b[0m\u001b[0;34m)\u001b[0m\u001b[0;34m)\u001b[0m\u001b[0;34m\u001b[0m\u001b[0;34m\u001b[0m\u001b[0m\n\u001b[0m\u001b[1;32m     84\u001b[0m             \u001b[0;32melse\u001b[0m\u001b[0;34m:\u001b[0m\u001b[0;34m\u001b[0m\u001b[0;34m\u001b[0m\u001b[0m\n\u001b[1;32m     85\u001b[0m                 \u001b[0mundisordered_atom_list\u001b[0m\u001b[0;34m.\u001b[0m\u001b[0mappend\u001b[0m\u001b[0;34m(\u001b[0m\u001b[0matom\u001b[0m\u001b[0;34m)\u001b[0m\u001b[0;34m\u001b[0m\u001b[0;34m\u001b[0m\u001b[0m\n",
      "\u001b[0;31mAttributeError\u001b[0m: 'Atom' object has no attribute 'disordered_get_list'"
     ]
    }
   ],
   "source": [
    "io = PDB.PDBIO()\n",
    "io.set_structure(a)\n",
    "io.save(f\"dataset/5SIJ/protein.pdb\", AAOnly())"
   ]
  },
  {
   "cell_type": "code",
   "execution_count": 149,
   "metadata": {},
   "outputs": [
    {
     "name": "stdout",
     "output_type": "stream",
     "text": [
      "Structure exists: 'dataset/6TRX/pdb6trx.ent' \n",
      "6TRX {'PO4', 'TMO', '9XH'}\n",
      "Structure exists: 'dataset/7LQZ/pdb7lqz.ent' \n",
      "7LQZ {'POV', '6EU'}\n",
      "Structure exists: 'dataset/7T6S/pdb7t6s.ent' \n",
      "7T6S {'FUI'}\n",
      "Structure exists: 'dataset/7SHV/pdb7shv.ent' \n",
      "7SHV {'29L'}\n",
      "Structure exists: 'dataset/6LR4/pdb6lr4.ent' \n",
      "6LR4 {'NAG', 'BMA', 'PC1', 'ESF', 'CLR'}\n",
      "Structure exists: 'dataset/7Y5T/pdb7y5t.ent' \n",
      "7Y5T {'NAG', 'BMA', 'PC1', 'IGD', 'CLR'}\n",
      "Structure exists: 'dataset/7DMC/pdb7dmc.ent' \n",
      "7DMC {'H9F'}\n",
      "Structure exists: 'dataset/7B91/pdb7b91.ent' \n",
      "7B91 {'T2Z'}\n",
      "Structure exists: 'dataset/7QQ6/pdb7qq6.ent' \n",
      "7QQ6 {'38O'}\n",
      "Structure exists: 'dataset/7X5H/pdb7x5h.ent' \n",
      "7X5H {'8K3'}\n",
      "Structure exists: 'dataset/7XTB/pdb7xtb.ent' \n",
      "7XTB {'SRO'}\n",
      "Structure exists: 'dataset/7QNE/pdb7qne.ent' \n",
      "7QNE {'NAG', 'BMA', 'MAN', 'EIE', 'PIO', 'D10', 'OCT'}\n",
      "Structure exists: 'dataset/7E9H/pdb7e9h.ent' \n",
      "7E9H set()\n",
      "Downloading PDB structure '7MU5'...\n",
      "7MU5 {'TLI'}\n",
      "Downloading PDB structure '7EJ8'...\n",
      "7EJ8 {'J59'}\n",
      "Downloading PDB structure '7JVR'...\n",
      "7JVR {'08Y'}\n",
      "Downloading PDB structure '7CX2'...\n",
      "7CX2 {'P2E'}\n",
      "Downloading PDB structure '7CMV'...\n",
      "7CMV {'G6O'}\n",
      "Downloading PDB structure '7EJ0'...\n",
      "7EJ0 {'E5E'}\n",
      "Downloading PDB structure '7EJK'...\n",
      "7EJK {'J5C'}\n",
      "Downloading PDB structure '7CMU'...\n",
      "7CMU {'G6L'}\n",
      "Downloading PDB structure '7DFL'...\n",
      "7DFL {'HSM'}\n",
      "Downloading PDB structure '7F58'...\n",
      "7F58 {'1I8'}\n",
      "Downloading PDB structure '7XR6'...\n",
      "7XR6 {'GJ0', 'PC1', 'XKJ', 'Y01'}\n",
      "Downloading PDB structure '7SMZ'...\n",
      "7SMZ {'K2B', 'HEM', 'ACT'}\n",
      "Downloading PDB structure '5SET'...\n",
      "5SET {'IH8'}\n",
      "Downloading PDB structure '5SE0'...\n",
      "5SE0 {'IBJ'}\n",
      "Downloading PDB structure '5SF4'...\n",
      "5SF4 {'IJD'}\n",
      "Downloading PDB structure '5SE1'...\n",
      "5SE1 {'IBV'}\n",
      "Downloading PDB structure '5SEW'...\n",
      "5SEW {'II5'}\n",
      "Downloading PDB structure '5SFU'...\n",
      "5SFU {'IQ3'}\n",
      "Downloading PDB structure '5SJS'...\n",
      "5SJS {'GOL', 'K5R'}\n",
      "Downloading PDB structure '5SHD'...\n",
      "5SHD {'JCP'}\n",
      "Downloading PDB structure '5SKV'...\n",
      "5SKV {'KJC'}\n",
      "Downloading PDB structure '5SDZ'...\n",
      "5SDZ {'IB7'}\n",
      "Downloading PDB structure '5SJL'...\n",
      "5SJL {'K49'}\n",
      "Downloading PDB structure '5SE5'...\n",
      "5SE5 {'IEH'}\n",
      "Downloading PDB structure '5SFL'...\n",
      "5SFL {'IL9'}\n",
      "Downloading PDB structure '5SKK'...\n",
      "5SKK {'KGO'}\n",
      "Downloading PDB structure '8DOF'...\n",
      "8DOF {'T4L', 'EDO', 'SO4'}\n",
      "Downloading PDB structure '5SFN'...\n",
      "5SFN {'ILS'}\n",
      "Downloading PDB structure '5SF8'...\n",
      "5SF8 {'IJQ'}\n",
      "Downloading PDB structure '5SGT'...\n",
      "5SGT {'IYS'}\n",
      "Downloading PDB structure '7L5O'...\n",
      "7L5O {'PEG', 'R1L', 'SO4', 'DMS', 'EDO', 'ACT'}\n",
      "Downloading PDB structure '7VSI'...\n",
      "7VSI {'7R3', 'PLM'}\n",
      "Downloading PDB structure '7RJE'...\n",
      "7RJE {'FES', 'HEC', 'HEM', 'ZL5'}\n",
      "Downloading PDB structure '6ZY5'...\n",
      "6ZY5 {' DT', ' DA', ' DC', ' DG', 'EVP'}\n",
      "Downloading PDB structure '5SFH'...\n",
      "5SFH {'IKO'}\n",
      "Downloading PDB structure '5SG6'...\n",
      "5SG6 {'IVT'}\n",
      "Downloading PDB structure '5SEB'...\n",
      "5SEB {'IF2'}\n",
      "Downloading PDB structure '5SFT'...\n",
      "5SFT {'IOZ'}\n",
      "Downloading PDB structure '5SEJ'...\n",
      "5SEJ {'IFV'}\n",
      "Downloading PDB structure '5SEQ'...\n",
      "5SEQ {'IGO'}\n",
      "Downloading PDB structure '5SHT'...\n",
      "5SHT {'JIV'}\n",
      "Downloading PDB structure '5SFD'...\n",
      "5SFD {'IKB'}\n",
      "Downloading PDB structure '5SFW'...\n",
      "5SFW {'IQF'}\n",
      "Downloading PDB structure '5SG1'...\n",
      "5SG1 {'IV8'}\n",
      "Downloading PDB structure '5SH9'...\n",
      "5SH9 {'JAP', 'PG4'}\n",
      "Downloading PDB structure '5SFS'...\n",
      "5SFS {'IOU'}\n",
      "Downloading PDB structure '5SGX'...\n",
      "5SGX {'IZH'}\n",
      "Downloading PDB structure '5SHA'...\n",
      "5SHA {'JBV'}\n",
      "Downloading PDB structure '7WMV'...\n",
      "7WMV {'1YI'}\n",
      "Downloading PDB structure '5SG9'...\n",
      "5SG9 {'IWC'}\n",
      "Downloading PDB structure '6LR9'...\n",
      "6LR9 {'GOL', 'EOR'}\n",
      "Downloading PDB structure '5SJG'...\n",
      "5SJG {'K2L'}\n",
      "Downloading PDB structure '8EJB'...\n",
      "8EJB {'EDO', 'WKC'}\n",
      "Downloading PDB structure '7OTY'...\n",
      "7OTY {'1IX'}\n",
      "Downloading PDB structure '5SF6'...\n",
      "5SF6 {'IJK'}\n",
      "Downloading PDB structure '5SH3'...\n",
      "5SH3 {'J2L'}\n",
      "Downloading PDB structure '5SFB'...\n",
      "5SFB {'IK0'}\n",
      "Downloading PDB structure '5SGN'...\n",
      "5SGN {'IY6'}\n",
      "Downloading PDB structure '7N4S'...\n",
      "7N4S {'0B0'}\n",
      "Downloading PDB structure '5SE2'...\n",
      "5SE2 {'IBY'}\n",
      "Downloading PDB structure '5SFF'...\n",
      "5SFF {'IKH'}\n",
      "Downloading PDB structure '5SF1'...\n",
      "5SF1 {'IJ0'}\n",
      "Downloading PDB structure '5SEM'...\n",
      "5SEM {'IG6'}\n",
      "Downloading PDB structure '5SE9'...\n",
      "5SE9 {'ID9'}\n",
      "Downloading PDB structure '7KQJ'...\n",
      "7KQJ {'Z8G'}\n",
      "Downloading PDB structure '7CA8'...\n",
      "7CA8 {'FNO'}\n",
      "Downloading PDB structure '7YGQ'...\n",
      "7YGQ {'HUR'}\n",
      "Downloading PDB structure '7T6B'...\n",
      "7T6B {'S1P'}\n",
      "Downloading PDB structure '7EW3'...\n",
      "7EW3 {'S1P', 'PLM'}\n",
      "Downloading PDB structure '6WTN'...\n",
      "6WTN {'RXT', 'EDO'}\n",
      "Downloading PDB structure '6VNE'...\n",
      "6VNE {'2TA'}\n",
      "Downloading PDB structure '6XOG'...\n",
      "6XOG {'VAY', 'SO4'}\n",
      "Downloading PDB structure '6X0T'...\n",
      "6X0T {'SO4', 'UJ7'}\n",
      "Downloading PDB structure '7LMF'...\n",
      "7LMF {'Y6G'}\n",
      "Downloading PDB structure '7TEK'...\n",
      "7TEK {'I2D'}\n",
      "Downloading PDB structure '7SLV'...\n",
      "7SLV {'NAG', 'BMA', '9TC'}\n",
      "Downloading PDB structure '7SLY'...\n",
      "7SLY {'NAG', 'BMA', '9S5'}\n",
      "Downloading PDB structure '7SLX'...\n",
      "7SLX {'NAG', 'BMA', '9SS'}\n",
      "Downloading PDB structure '6M2B'...\n",
      "6M2B {'ORO', 'EZO', 'FMN'}\n",
      "Downloading PDB structure '7L11'...\n",
      "7L11 {'XF1'}\n",
      "Downloading PDB structure '7L14'...\n",
      "7L14 {'XFD'}\n",
      "Downloading PDB structure '7M8M'...\n",
      "7M8M {'YSG'}\n",
      "Downloading PDB structure '7M91'...\n",
      "7M91 {'YU4'}\n",
      "Downloading PDB structure '7N44'...\n",
      "7N44 {'06I'}\n",
      "Downloading PDB structure '7M8P'...\n",
      "7M8P {'YSJ'}\n",
      "Downloading PDB structure '7LTN'...\n",
      "7LTN {'YCV'}\n",
      "Downloading PDB structure '7ALE'...\n",
      "7ALE {'RLK', 'OK8'}\n",
      "Downloading PDB structure '7SFC'...\n",
      "7SFC {' DT', ' DA', 'GOL', ' DC', ' DG', 'EDO', 'I67'}\n",
      "Downloading PDB structure '7SFD'...\n",
      "Desired structure doesn't exists\n"
     ]
    },
    {
     "ename": "FileNotFoundError",
     "evalue": "[Errno 2] No such file or directory: 'dataset/7SFD/pdb7sfd.ent'",
     "output_type": "error",
     "traceback": [
      "\u001b[0;31m---------------------------------------------------------------------------\u001b[0m",
      "\u001b[0;31mFileNotFoundError\u001b[0m                         Traceback (most recent call last)",
      "\u001b[0;32m<ipython-input-149-d458022a4e59>\u001b[0m in \u001b[0;36m<module>\u001b[0;34m\u001b[0m\n\u001b[1;32m      1\u001b[0m \u001b[0;32mfor\u001b[0m \u001b[0mpdbid\u001b[0m \u001b[0;32min\u001b[0m \u001b[0mdf\u001b[0m\u001b[0;34m.\u001b[0m\u001b[0mindex\u001b[0m\u001b[0;34m:\u001b[0m\u001b[0;34m\u001b[0m\u001b[0;34m\u001b[0m\u001b[0m\n\u001b[0;32m----> 2\u001b[0;31m     \u001b[0mprint\u001b[0m\u001b[0;34m(\u001b[0m\u001b[0mpdbid\u001b[0m\u001b[0;34m,\u001b[0m \u001b[0mprocess_pdb\u001b[0m\u001b[0;34m(\u001b[0m\u001b[0mpdbid\u001b[0m\u001b[0;34m)\u001b[0m\u001b[0;34m)\u001b[0m\u001b[0;34m\u001b[0m\u001b[0;34m\u001b[0m\u001b[0m\n\u001b[0m",
      "\u001b[0;32m<ipython-input-148-e980127bd5a7>\u001b[0m in \u001b[0;36mprocess_pdb\u001b[0;34m(pdbid)\u001b[0m\n\u001b[1;32m      1\u001b[0m \u001b[0;32mdef\u001b[0m \u001b[0mprocess_pdb\u001b[0m\u001b[0;34m(\u001b[0m\u001b[0mpdbid\u001b[0m\u001b[0;34m)\u001b[0m\u001b[0;34m:\u001b[0m\u001b[0;34m\u001b[0m\u001b[0;34m\u001b[0m\u001b[0m\n\u001b[1;32m      2\u001b[0m     \u001b[0mget_pdb\u001b[0m\u001b[0;34m(\u001b[0m\u001b[0mpdbid\u001b[0m\u001b[0;34m)\u001b[0m\u001b[0;34m\u001b[0m\u001b[0;34m\u001b[0m\u001b[0m\n\u001b[0;32m----> 3\u001b[0;31m     \u001b[0mstruc\u001b[0m\u001b[0;34m=\u001b[0m\u001b[0mparser\u001b[0m\u001b[0;34m.\u001b[0m\u001b[0mget_structure\u001b[0m\u001b[0;34m(\u001b[0m\u001b[0mpdbid\u001b[0m\u001b[0;34m,\u001b[0m \u001b[0;34mf\"dataset/{pdbid}/pdb{pdbid.lower()}.ent\"\u001b[0m\u001b[0;34m)\u001b[0m\u001b[0;34m\u001b[0m\u001b[0;34m\u001b[0m\u001b[0m\n\u001b[0m\u001b[1;32m      4\u001b[0m \u001b[0;34m\u001b[0m\u001b[0m\n\u001b[1;32m      5\u001b[0m     \u001b[0;31m# get chain sequences\u001b[0m\u001b[0;34m\u001b[0m\u001b[0;34m\u001b[0m\u001b[0;34m\u001b[0m\u001b[0m\n",
      "\u001b[0;32m~/miniconda3/envs/analysis/lib/python3.7/site-packages/Bio/PDB/PDBParser.py\u001b[0m in \u001b[0;36mget_structure\u001b[0;34m(self, id, file)\u001b[0m\n\u001b[1;32m     83\u001b[0m             \u001b[0mself\u001b[0m\u001b[0;34m.\u001b[0m\u001b[0mstructure_builder\u001b[0m\u001b[0;34m.\u001b[0m\u001b[0minit_structure\u001b[0m\u001b[0;34m(\u001b[0m\u001b[0mid\u001b[0m\u001b[0;34m)\u001b[0m\u001b[0;34m\u001b[0m\u001b[0;34m\u001b[0m\u001b[0m\n\u001b[1;32m     84\u001b[0m \u001b[0;34m\u001b[0m\u001b[0m\n\u001b[0;32m---> 85\u001b[0;31m             \u001b[0;32mwith\u001b[0m \u001b[0mas_handle\u001b[0m\u001b[0;34m(\u001b[0m\u001b[0mfile\u001b[0m\u001b[0;34m,\u001b[0m \u001b[0mmode\u001b[0m\u001b[0;34m=\u001b[0m\u001b[0;34m'rU'\u001b[0m\u001b[0;34m)\u001b[0m \u001b[0;32mas\u001b[0m \u001b[0mhandle\u001b[0m\u001b[0;34m:\u001b[0m\u001b[0;34m\u001b[0m\u001b[0;34m\u001b[0m\u001b[0m\n\u001b[0m\u001b[1;32m     86\u001b[0m                 \u001b[0mself\u001b[0m\u001b[0;34m.\u001b[0m\u001b[0m_parse\u001b[0m\u001b[0;34m(\u001b[0m\u001b[0mhandle\u001b[0m\u001b[0;34m.\u001b[0m\u001b[0mreadlines\u001b[0m\u001b[0;34m(\u001b[0m\u001b[0;34m)\u001b[0m\u001b[0;34m)\u001b[0m\u001b[0;34m\u001b[0m\u001b[0;34m\u001b[0m\u001b[0m\n\u001b[1;32m     87\u001b[0m \u001b[0;34m\u001b[0m\u001b[0m\n",
      "\u001b[0;32m~/miniconda3/envs/analysis/lib/python3.7/contextlib.py\u001b[0m in \u001b[0;36m__enter__\u001b[0;34m(self)\u001b[0m\n\u001b[1;32m    110\u001b[0m         \u001b[0;32mdel\u001b[0m \u001b[0mself\u001b[0m\u001b[0;34m.\u001b[0m\u001b[0margs\u001b[0m\u001b[0;34m,\u001b[0m \u001b[0mself\u001b[0m\u001b[0;34m.\u001b[0m\u001b[0mkwds\u001b[0m\u001b[0;34m,\u001b[0m \u001b[0mself\u001b[0m\u001b[0;34m.\u001b[0m\u001b[0mfunc\u001b[0m\u001b[0;34m\u001b[0m\u001b[0;34m\u001b[0m\u001b[0m\n\u001b[1;32m    111\u001b[0m         \u001b[0;32mtry\u001b[0m\u001b[0;34m:\u001b[0m\u001b[0;34m\u001b[0m\u001b[0;34m\u001b[0m\u001b[0m\n\u001b[0;32m--> 112\u001b[0;31m             \u001b[0;32mreturn\u001b[0m \u001b[0mnext\u001b[0m\u001b[0;34m(\u001b[0m\u001b[0mself\u001b[0m\u001b[0;34m.\u001b[0m\u001b[0mgen\u001b[0m\u001b[0;34m)\u001b[0m\u001b[0;34m\u001b[0m\u001b[0;34m\u001b[0m\u001b[0m\n\u001b[0m\u001b[1;32m    113\u001b[0m         \u001b[0;32mexcept\u001b[0m \u001b[0mStopIteration\u001b[0m\u001b[0;34m:\u001b[0m\u001b[0;34m\u001b[0m\u001b[0;34m\u001b[0m\u001b[0m\n\u001b[1;32m    114\u001b[0m             \u001b[0;32mraise\u001b[0m \u001b[0mRuntimeError\u001b[0m\u001b[0;34m(\u001b[0m\u001b[0;34m\"generator didn't yield\"\u001b[0m\u001b[0;34m)\u001b[0m \u001b[0;32mfrom\u001b[0m \u001b[0;32mNone\u001b[0m\u001b[0;34m\u001b[0m\u001b[0;34m\u001b[0m\u001b[0m\n",
      "\u001b[0;32m~/miniconda3/envs/analysis/lib/python3.7/site-packages/Bio/File.py\u001b[0m in \u001b[0;36mas_handle\u001b[0;34m(handleish, mode, **kwargs)\u001b[0m\n\u001b[1;32m    116\u001b[0m                 \u001b[0;32myield\u001b[0m \u001b[0mfp\u001b[0m\u001b[0;34m\u001b[0m\u001b[0;34m\u001b[0m\u001b[0m\n\u001b[1;32m    117\u001b[0m         \u001b[0;32melse\u001b[0m\u001b[0;34m:\u001b[0m\u001b[0;34m\u001b[0m\u001b[0;34m\u001b[0m\u001b[0m\n\u001b[0;32m--> 118\u001b[0;31m             \u001b[0;32mwith\u001b[0m \u001b[0mopen\u001b[0m\u001b[0;34m(\u001b[0m\u001b[0mhandleish\u001b[0m\u001b[0;34m,\u001b[0m \u001b[0mmode\u001b[0m\u001b[0;34m,\u001b[0m \u001b[0;34m**\u001b[0m\u001b[0mkwargs\u001b[0m\u001b[0;34m)\u001b[0m \u001b[0;32mas\u001b[0m \u001b[0mfp\u001b[0m\u001b[0;34m:\u001b[0m\u001b[0;34m\u001b[0m\u001b[0;34m\u001b[0m\u001b[0m\n\u001b[0m\u001b[1;32m    119\u001b[0m                 \u001b[0;32myield\u001b[0m \u001b[0mfp\u001b[0m\u001b[0;34m\u001b[0m\u001b[0;34m\u001b[0m\u001b[0m\n\u001b[1;32m    120\u001b[0m     \u001b[0;32melse\u001b[0m\u001b[0;34m:\u001b[0m\u001b[0;34m\u001b[0m\u001b[0;34m\u001b[0m\u001b[0m\n",
      "\u001b[0;31mFileNotFoundError\u001b[0m: [Errno 2] No such file or directory: 'dataset/7SFD/pdb7sfd.ent'"
     ]
    }
   ],
   "source": [
    "for pdbid in df.index:\n",
    "    print(pdbid, process_pdb(pdbid))"
   ]
  },
  {
   "cell_type": "code",
   "execution_count": 132,
   "metadata": {},
   "outputs": [
    {
     "data": {
      "text/plain": [
       "'7E9H'"
      ]
     },
     "execution_count": 132,
     "metadata": {},
     "output_type": "execute_result"
    }
   ],
   "source": [
    "pdbid"
   ]
  },
  {
   "cell_type": "code",
   "execution_count": 28,
   "metadata": {},
   "outputs": [
    {
     "name": "stdout",
     "output_type": "stream",
     "text": [
      "Structure exists: 'dataset/7E9H/pdb7e9h.ent' \n",
      "Warning! No ligands found for 7E9H!\n"
     ]
    }
   ],
   "source": [
    "pdbid=\"7E9H\"\n",
    "process_pdb(pdbid)"
   ]
  },
  {
   "cell_type": "code",
   "execution_count": 29,
   "metadata": {},
   "outputs": [],
   "source": [
    "struc=parser.get_structure(pdbid, f\"dataset/{pdbid}/pdb{pdbid.lower()}.ent\")"
   ]
  },
  {
   "cell_type": "code",
   "execution_count": 30,
   "metadata": {},
   "outputs": [
    {
     "data": {
      "text/plain": [
       "{'R': <Chain id=R>,\n",
       " 'S': <Chain id=S>,\n",
       " 'A': <Chain id=A>,\n",
       " 'B': <Chain id=B>,\n",
       " 'C': <Chain id=C>,\n",
       " 'D': <Chain id=D>}"
      ]
     },
     "execution_count": 30,
     "metadata": {},
     "output_type": "execute_result"
    }
   ],
   "source": [
    "struc[0].child_dict"
   ]
  },
  {
   "cell_type": "code",
   "execution_count": 31,
   "metadata": {},
   "outputs": [],
   "source": [
    "# get chain sequences\n",
    "seqs={}\n",
    "for chain in struc[0].child_dict.values():\n",
    "    seqs[chain.id]=\"\".join([PDB.Polypeptide.three_to_one(res.get_resname()) for res in chain.get_residues() if PDB.Polypeptide.is_aa(res, standard=True)])"
   ]
  },
  {
   "cell_type": "code",
   "execution_count": 32,
   "metadata": {},
   "outputs": [
    {
     "data": {
      "text/plain": [
       "{'R': 'NSIRIDGDITLGGLFPVHGRGSEGKPCGELKKEKGIHRLEAMLFALDRINNDPDLLPNITLGARILDTCSRDTHALEQSLTFVQALIERVVGVIGASGSSVSIMVANILRLFKIPQISYASTAPDLSDNSRYDFFSRVVPSDTYQAQAMVDIVRALKWNYVSTVASEGSYGESGVEAFIQKSREDGGVCIAQSVKIPREPKAGEFDKIIRRLLETSNARAVIIFANEDDIRRVLEAARRANQTGHFFWMGSDSWGSKIAPVLHLEEVAEGAVTILPKRMSVRGFDRYFSSRTLDNNRRNIWFAEFWEDNFHCKLVKKCTNRERIGQDSAYEQEGKVQFVIDAVYAMGHALHAMHRDLCPGRVGLCPRMDPVDGTQLLKYIRNVNFSGIAGNPVTFNENGDAPGRYDIYQYQLRAEYKVIGSWTDHLHLRIQQLPRSICSLPCQPGERKKTVKGMPCCWHCEPCTGYQYQVDRYTCKTCPYDMRPTENRTGCRPIPIIKLEWGSPWAVLPLFLAVVGIAATLFVVITFVRYNDTPIVKASGRELSYVLLAGIFLCYATTFLMIAEPDLGTCSLRRIFLGLGMSISYAALLTKTNRIYRIFEQGKRSVSAPRFISPASQLAITFSLISLQLLGICVWFVVDPSHSVVDFQDQRTLDPRFARGVLKCDISDLSLICLLGYSMLLMVTCTVYAIKTRGVPETFNEAKPIGFTMYTTCIVWLAFIPIFFGTSQSADKLYIQTTTLTVSVSLSASVSLGMLYMPKVYIILFH',\n",
       " 'S': 'NSIRIDGDITLGGLFPVHGRGSEGKPCGELKKEKGIHRLEAMLFALDRINNDPDLLPNITLGARILDTCSRDTHALEQSLTFVQALERVVGVIGASGSSVSIMVANILRLFKIPQISYASTAPDLSDNSRYDFFSRVVPSDTYQAQAMVDIVRALKWNYVSTVASEGSYGESGVEAFIQKSREDGGVCIAQSVKIPREPKAGEFDKIIRRLLETSNARAVIIFANEDDIRRVLEAARRANQTGHFFWMGSDSWGSKIAPVLHLEEVAEGAVTILPKRMSVRGFDRYFSSRTLDNNRRNIWFAEFWEDNFHCKKKCTNRERIGQDSAYEQEGKVQFVIDAVYAMGHALHAMHRDLCPGRVGLCPRMDPVDGTQLLKYIRNVNFSGIAGNPVTFNENGDAPGRYDIYQYQLRNDSAEYKVIGSWTDHLHLRIERMHWLPRSICSLPCQPGERKKTVKGMPCCWHCEPCTGYQYQVDRYTCKTCPYDMRPTENRTGCRPIPIIKLEWGSPWAVLPLFLAVVGIAATLFVVITFVRYNDTPIVKASGRELSYVLLAGIFLCYATTFLMIAEPDLGTCSLRRIFLGLGMSISYAALLTKTNRIYRIFEQRFISPASQLAITFSLISLQLLGICVWFVVDPSHSVVDFQDQRTLDPRFARGVLKCDISDLSLICLLGYSMLLMVTCTVYAIKTRGVPETFNEAKPIGFTMYTTCIVWLAFIPIFFGTSQSADKLYIQTTTLTVSVSLSASVSLGMLYMPKVYIILFH',\n",
       " 'A': 'SAEDKAAVERSKMIDRNLREDGEKAAKEVKLLLLGAGESGKNTIVKQMKIIGIVETHFTDKDLYFKMFDVGAQRSERKKWIHCFEGVTAIIFCVALSDYDLVLAEDEEMNRMHASMKLFDSICNNKWFTETSIILFLNKKDLFEEKIKRSPLTICYPEYTGSNTYEEAAAYIQCQFEDLNRRKDTKEIYTHFTCSTDTKNVQFVFDAVTDVIIKNNLKECGLY',\n",
       " 'B': 'NNIDPVGRIQMRTRRTLRGHLAKIYAMHWGTDSRLLVSASQDGKLIIWDSYTTNKVHAIPLRSSWVMTCAYAPSGNYVACGGLDNICSIYNLKTREGNVRVSRELAGHTGYLSCCRFLDDNQIVTSSGDTTCALWDIETGQQTTTFTGHTGDVMSLSLAPDTRLFVSGACDASAKLWDVREGMCRQTFTGHESDINAICFFPNGNAFATGSDDATCRLFDLRADQELMTYSHDNIICGITSVSFSKSGRLLLAGYDDFNCNVWDALKADRAGVLAGHDNRVSCLGVTDDGMAVATGSWDSFLKIWN',\n",
       " 'C': 'KVSKAAADLMAYCEAHAKE',\n",
       " 'D': 'VQLVESGGGLVQPGGSRKLSCSASGFAFSSFGMHWVRQAPEKGLEWVAYISSGSGTIYYADTVKGRFTISRDDPKNTLFLQMTSLRSEDTAMYYCVRSIYYYGSSPFDFWGQGTTLTVSSSDIVMTQATSSVPVTPGESVSISCRSSKSLLHSNGNTYLYWFLQRPGQSPQLLIYRMSNLASGVPDRFSGSGSGTAFTLTISRLEAEDVGVYYCMQHLEYPLTFGAGTKLEL'}"
      ]
     },
     "execution_count": 32,
     "metadata": {},
     "output_type": "execute_result"
    }
   ],
   "source": [
    "seqs"
   ]
  },
  {
   "cell_type": "code",
   "execution_count": 112,
   "metadata": {},
   "outputs": [],
   "source": [
    "\n",
    "\n",
    "# get ligand from pdb\n",
    "interesting_ligand_id = 0\n",
    "for residue in struc[0].get_residues():\n",
    "    if not PDB.Polypeptide.is_aa(residue, standard=True):\n",
    "        if residue.get_resname() not in ignored_list and len(residue.child_list) > 1:\n",
    "            # save residue as ligand\n",
    "            copied_res = residue.copy()\n",
    "            io = PDB.PDBIO()\n",
    "            io.set_structure(copied_res)\n",
    "            io.save(f\"dataset/{pdbid}_IP/lig_{interesting_ligand_id}.pdb\")\n",
    "            subprocess.call([\"obabel\", f\"dataset/{pdbid}_IP/lig_{interesting_ligand_id}.pdb\", \"-O\", f\"dataset/{pdbid}_IP/lig_{interesting_ligand_id}.sdf\"])\n",
    "            interesting_ligand_id += 1\n"
   ]
  },
  {
   "cell_type": "code",
   "execution_count": 113,
   "metadata": {},
   "outputs": [],
   "source": [
    "ligands = []\n",
    "for i in range(interesting_ligand_id):\n",
    "    mol = Chem.MolFromMolFile(f\"dataset/{pdbid}/lig_{i}.sdf\", sanitize=False)\n",
    "    Chem.rdmolops.SanitizeMol(mol, 268435455-2)\n",
    "    ligands.append(mol)\n"
   ]
  },
  {
   "cell_type": "code",
   "execution_count": 114,
   "metadata": {},
   "outputs": [],
   "source": [
    "ref_mol=Chem.MolFromSmiles(df.loc[pdbid][\"smiles\"])\n",
    "ref_mol_fp=AllChem.GetMorganFingerprintAsBitVect(ref_mol,2,nBits=1024)"
   ]
  },
  {
   "cell_type": "code",
   "execution_count": 115,
   "metadata": {},
   "outputs": [],
   "source": [
    "# get all similarities\n",
    "similarity = [Chem.DataStructs.DiceSimilarity(ref_mol_fp, AllChem.GetMorganFingerprintAsBitVect(ligand, 2,nBits=1024)) for ligand in ligands]\n",
    "# Chem.DataStructs.DiceSimilarity(ref_mol_fp, AllChem.GetMorganFingerprintAsBitVect(ligand, 2,nBits=1024)) for ligand in ligands"
   ]
  },
  {
   "cell_type": "code",
   "execution_count": 116,
   "metadata": {},
   "outputs": [
    {
     "data": {
      "text/plain": [
       "[0.6229508196721312]"
      ]
     },
     "execution_count": 116,
     "metadata": {},
     "output_type": "execute_result"
    }
   ],
   "source": [
    "similarity"
   ]
  },
  {
   "cell_type": "code",
   "execution_count": 97,
   "metadata": {},
   "outputs": [
    {
     "data": {
      "image/png": "[encoded data removed]",
      "text/plain": [
       "<PIL.Image.Image image mode=RGB size=300x300 at 0x7FF7194F4890>"
      ]
     },
     "execution_count": 97,
     "metadata": {},
     "output_type": "execute_result"
    }
   ],
   "source": [
    "Draw.MolToImage(ref_mol)"
   ]
  },
  {
   "cell_type": "code",
   "execution_count": 102,
   "metadata": {},
   "outputs": [
    {
     "data": {
      "image/png": "[encoded data removed]",
      "text/plain": [
       "<PIL.Image.Image image mode=RGB size=300x300 at 0x7FF7194F4150>"
      ]
     },
     "execution_count": 102,
     "metadata": {},
     "output_type": "execute_result"
    }
   ],
   "source": [
    "# AllChem.Compute2DCoords(ligands[-1])\n",
    "Draw.MolToImage(ligands[-1])"
   ]
  },
  {
   "cell_type": "code",
   "execution_count": 103,
   "metadata": {},
   "outputs": [],
   "source": [
    "fixmol=AllChem.AssignBondOrdersFromTemplate(refmol=ref_mol, mol=ligands[-1])"
   ]
  },
  {
   "cell_type": "code",
   "execution_count": 104,
   "metadata": {},
   "outputs": [
    {
     "data": {
      "image/png": "[encoded data removed]",
      "text/plain": [
       "<PIL.Image.Image image mode=RGB size=300x300 at 0x7FF7194E2910>"
      ]
     },
     "execution_count": 104,
     "metadata": {},
     "output_type": "execute_result"
    }
   ],
   "source": [
    "Draw.MolToImage(fixmol)"
   ]
  },
  {
   "cell_type": "code",
   "execution_count": 95,
   "metadata": {},
   "outputs": [
    {
     "data": {
      "text/plain": [
       "23"
      ]
     },
     "execution_count": 95,
     "metadata": {},
     "output_type": "execute_result"
    }
   ],
   "source": [
    "ref_mol.GetNumAtoms()"
   ]
  },
  {
   "cell_type": "code",
   "execution_count": 96,
   "metadata": {},
   "outputs": [
    {
     "data": {
      "text/plain": [
       "23"
      ]
     },
     "execution_count": 96,
     "metadata": {},
     "output_type": "execute_result"
    }
   ],
   "source": [
    "ligands[-1].GetNumAtoms()"
   ]
  },
  {
   "cell_type": "code",
   "execution_count": 65,
   "metadata": {},
   "outputs": [
    {
     "data": {
      "image/png": "[encoded data removed]",
      "text/plain": [
       "<PIL.PngImagePlugin.PngImageFile image mode=RGB size=1000x600 at 0x7FF71C9B5A90>"
      ]
     },
     "execution_count": 65,
     "metadata": {},
     "output_type": "execute_result"
    }
   ],
   "source": [
    "Draw.MolsToGridImage(ligands, molsPerRow=5, subImgSize=(200, 200))"
   ]
  },
  {
   "cell_type": "code",
   "execution_count": 47,
   "metadata": {},
   "outputs": [],
   "source": [
    "chosen_ligand_idx = np.argmax(similarity)"
   ]
  },
  {
   "cell_type": "code",
   "execution_count": null,
   "metadata": {},
   "outputs": [],
   "source": []
  },
  {
   "cell_type": "code",
   "execution_count": 117,
   "metadata": {},
   "outputs": [],
   "source": [
    "ref_chain_seq = df.loc[pdbid][\"seq\"]\n",
    "seq_sims = {}\n",
    "for chain_id in seqs:\n",
    "    seq_sims[chain_id] = calc_seq_align_identity(ref_chain_seq, seqs[chain_id])"
   ]
  },
  {
   "cell_type": "code",
   "execution_count": 118,
   "metadata": {},
   "outputs": [
    {
     "data": {
      "text/plain": [
       "{'A': 0.2855191256830601}"
      ]
     },
     "execution_count": 118,
     "metadata": {},
     "output_type": "execute_result"
    }
   ],
   "source": [
    "seq_sims"
   ]
  },
  {
   "cell_type": "code",
   "execution_count": 121,
   "metadata": {},
   "outputs": [
    {
     "data": {
      "text/plain": [
       "True"
      ]
     },
     "execution_count": 121,
     "metadata": {},
     "output_type": "execute_result"
    }
   ],
   "source": [
    "(ref_chain_seq in seqs[chain_id]) or (seqs[chain_id] in ref_chain_seq)"
   ]
  },
  {
   "cell_type": "code",
   "execution_count": 51,
   "metadata": {},
   "outputs": [],
   "source": [
    "satisfied_chains = []\n",
    "satisfied_chain_sims = []\n",
    "for seqid in seqs:\n",
    "    if len(seqs[seqid]) == 0:\n",
    "        continue\n",
    "    min_dist = get_min_dist_between_lig_and_chain(ligands[chosen_ligand_idx], struc[0][seqid])\n",
    "    if min_dist > min_dist_threshold:\n",
    "        continue\n",
    "    satisfied_chains.append(seqid)\n",
    "    satisfied_chain_sims.append(seq_sims[seqid])\n"
   ]
  },
  {
   "cell_type": "code",
   "execution_count": 52,
   "metadata": {},
   "outputs": [
    {
     "data": {
      "text/plain": [
       "(['C', 'D'], [0.30701754385964913, 0.7280701754385965])"
      ]
     },
     "execution_count": 52,
     "metadata": {},
     "output_type": "execute_result"
    }
   ],
   "source": [
    "satisfied_chains, satisfied_chain_sims"
   ]
  },
  {
   "cell_type": "code",
   "execution_count": 120,
   "metadata": {},
   "outputs": [],
   "source": [
    "selected_chain=satisfied_chains[np.argmax(satisfied_chain_sims)]"
   ]
  },
  {
   "cell_type": "code",
   "execution_count": 121,
   "metadata": {},
   "outputs": [
    {
     "data": {
      "text/plain": [
       "(1, 'B')"
      ]
     },
     "execution_count": 121,
     "metadata": {},
     "output_type": "execute_result"
    }
   ],
   "source": [
    "chosen_ligand_idx, selected_chain"
   ]
  },
  {
   "cell_type": "code",
   "execution_count": 56,
   "metadata": {},
   "outputs": [],
   "source": [
    "class AAOnly(Select):\n",
    "    def accept_residue(self, residue):\n",
    "        return PDB.Polypeptide.is_aa(residue)\n",
    "\n",
    "# io = PDB.PDBIO()\n",
    "# io.set_structure(struc[0][selected_chain])\n",
    "# io.save(f\"dataset/{pdbid}/protein.pdb\", AAOnly())\n",
    "\n",
    "save_multiple_chains([struc[0][\"C\"], struc[0][\"D\"]], f\"dataset/{pdbid}/protein.pdb\", AAOnly())"
   ]
  },
  {
   "cell_type": "code",
   "execution_count": 55,
   "metadata": {},
   "outputs": [],
   "source": [
    "from Bio.PDB.StructureBuilder import StructureBuilder\n",
    "\n",
    "def save_multiple_chains(list_of_chains, save_addr, selector=None):\n",
    "    sb = StructureBuilder()\n",
    "    sb.init_structure(\"pdb\")\n",
    "    sb.init_seg(\" \")\n",
    "    sb.init_model(0)\n",
    "    \n",
    "    for chain in list_of_chains:\n",
    "        sb.structure[0].add(chain)\n",
    "\n",
    "    io = PDB.PDBIO()\n",
    "    io.set_structure(sb.structure)\n",
    "    io.save(save_addr, select=selector)"
   ]
  },
  {
   "cell_type": "code",
   "execution_count": 113,
   "metadata": {},
   "outputs": [],
   "source": [
    "def get_min_dist_between_lig_and_chain(ligand, chain):\n",
    "    ligand_coords = ligand.GetConformer().GetPositions()\n",
    "    chain_CA_coords = np.array([res[\"CA\"].get_coord() for res in chain if PDB.Polypeptide.is_aa(res)])\n",
    "    # minimum distance between ligand and chain\n",
    "    min_dist = np.min(np.linalg.norm(ligand_coords[:, None, :] - chain_CA_coords[None, :, :], axis=-1))\n",
    "    return min_dist\n"
   ]
  },
  {
   "cell_type": "code",
   "execution_count": 97,
   "metadata": {},
   "outputs": [
    {
     "data": {
      "text/plain": [
       "3.607272607336432"
      ]
     },
     "execution_count": 97,
     "metadata": {},
     "output_type": "execute_result"
    }
   ],
   "source": [
    "min_dist"
   ]
  },
  {
   "cell_type": "code",
   "execution_count": 88,
   "metadata": {},
   "outputs": [],
   "source": [
    "a=struc[0][\"A\"][50][\"CA\"]"
   ]
  },
  {
   "cell_type": "code",
   "execution_count": 89,
   "metadata": {},
   "outputs": [
    {
     "data": {
      "text/plain": [
       "array([-82.822,  11.066,  10.95 ], dtype=float32)"
      ]
     },
     "execution_count": 89,
     "metadata": {},
     "output_type": "execute_result"
    }
   ],
   "source": [
    "a.get_coord()"
   ]
  },
  {
   "cell_type": "code",
   "execution_count": 53,
   "metadata": {},
   "outputs": [
    {
     "data": {
      "image/png": "[encoded data removed]",
      "text/plain": [
       "<PIL.Image.Image image mode=RGB size=300x300 at 0x7FE9C9E64C10>"
      ]
     },
     "execution_count": 53,
     "metadata": {},
     "output_type": "execute_result"
    }
   ],
   "source": [
    "Draw.MolToImage(ref_mol)"
   ]
  },
  {
   "cell_type": "code",
   "execution_count": 153,
   "metadata": {},
   "outputs": [
    {
     "data": {
      "text/plain": [
       "0"
      ]
     },
     "execution_count": 153,
     "metadata": {},
     "output_type": "execute_result"
    }
   ],
   "source": [
    "AllChem.Compute2DCoords(ligands[1])"
   ]
  },
  {
   "cell_type": "code",
   "execution_count": 154,
   "metadata": {},
   "outputs": [
    {
     "data": {
      "image/png": "[encoded data removed]",
      "text/plain": [
       "<PIL.PngImagePlugin.PngImageFile image mode=RGB size=800x400 at 0x7FE9BF89DD10>"
      ]
     },
     "execution_count": 154,
     "metadata": {},
     "output_type": "execute_result"
    }
   ],
   "source": [
    "Draw.MolsToGridImage(ligands, molsPerRow=4, subImgSize=(200, 200))"
   ]
  },
  {
   "cell_type": "code",
   "execution_count": null,
   "metadata": {},
   "outputs": [],
   "source": [
    "# convert ligand to smiles\n",
    "import subprocess\n",
    "import os\n",
    "\n",
    "def get_smiles(pdbid, ligand_id):\n",
    "    os.chdir(f\"dataset/{pdbid}\")\n",
    "    subprocess.call([\"obabel\", f\"lig_{ligand_id}.pdb\", \"-O\", f\"lig_{ligand_id}.sdf\"])\n",
    "    subprocess.call([\"obabel\", f\"lig_{ligand_id}.sdf\", \"-O\", f\"lig_{ligand_id}.smi\"])\n",
    "    with open(f\"lig_{ligand_id}.smi\", \"r\") as f:\n",
    "        smiles = f.readline().split()[0]\n",
    "    os.chdir(\"../"
   ]
  },
  {
   "cell_type": "code",
   "execution_count": 35,
   "metadata": {},
   "outputs": [
    {
     "data": {
      "text/plain": [
       "<Residue TMO het=H_TMO resseq=1001 icode= >"
      ]
     },
     "execution_count": 35,
     "metadata": {},
     "output_type": "execute_result"
    }
   ],
   "source": [
    "copied_res"
   ]
  },
  {
   "cell_type": "code",
   "execution_count": 20,
   "metadata": {},
   "outputs": [
    {
     "data": {
      "text/plain": [
       "<Residue LEU het=  resseq=48 icode= >"
      ]
     },
     "execution_count": 20,
     "metadata": {},
     "output_type": "execute_result"
    }
   ],
   "source": [
    "ligand"
   ]
  },
  {
   "cell_type": "code",
   "execution_count": null,
   "metadata": {},
   "outputs": [],
   "source": []
  },
  {
   "cell_type": "code",
   "execution_count": null,
   "metadata": {},
   "outputs": [],
   "source": []
  },
  {
   "cell_type": "code",
   "execution_count": null,
   "metadata": {},
   "outputs": [],
   "source": []
  },
  {
   "attachments": {},
   "cell_type": "markdown",
   "metadata": {},
   "source": [
    "# Final dataset"
   ]
  },
  {
   "cell_type": "code",
   "execution_count": 2,
   "metadata": {},
   "outputs": [],
   "source": [
    "import pandas as pd\n",
    "df_final=pd.read_csv(\"bindingDB_processed.csv\",index_col=0)"
   ]
  },
  {
   "cell_type": "code",
   "execution_count": 16,
   "metadata": {},
   "outputs": [],
   "source": [
    "df_final=pd.read_csv(\"prepared_final.csv\",index_col=0)"
   ]
  },
  {
   "cell_type": "code",
   "execution_count": 36,
   "metadata": {},
   "outputs": [],
   "source": [
    "df_final[\"accurate\"]=~df_final.value.str.contains('<')"
   ]
  },
  {
   "cell_type": "code",
   "execution_count": 42,
   "metadata": {},
   "outputs": [],
   "source": [
    "df_final[\"pKa\"]=-np.log10(df_final.value.apply(lambda x: float(x.replace(\"<\",\"\")))*1e-9)"
   ]
  },
  {
   "cell_type": "code",
   "execution_count": 45,
   "metadata": {},
   "outputs": [],
   "source": [
    "df_final.to_csv(\"bindingDB_processed.csv\")"
   ]
  },
  {
   "cell_type": "code",
   "execution_count": 32,
   "metadata": {},
   "outputs": [],
   "source": [
    "items = set()\n",
    "for v in df_final.value:\n",
    "    items.update(set(v))\n"
   ]
  },
  {
   "cell_type": "code",
   "execution_count": 33,
   "metadata": {},
   "outputs": [
    {
     "data": {
      "text/plain": [
       "{' ', '.', '0', '1', '2', '3', '4', '5', '6', '7', '8', '9', '<'}"
      ]
     },
     "execution_count": 33,
     "metadata": {},
     "output_type": "execute_result"
    }
   ],
   "source": [
    "items"
   ]
  },
  {
   "cell_type": "code",
   "execution_count": 31,
   "metadata": {},
   "outputs": [
    {
     "name": "stdout",
     "output_type": "stream",
     "text": [
      "True False False\n"
     ]
    }
   ],
   "source": [
    "\n",
    "a=\"100\"\n",
    "b=\"100.0\"\n",
    "c=\"<100\"\n",
    "\n",
    "\n",
    "print(a.isalnum(), b.isalnum(), c.isalnum())"
   ]
  },
  {
   "cell_type": "code",
   "execution_count": 3,
   "metadata": {},
   "outputs": [],
   "source": [
    "vina=pd.read_csv(\"vina_rescores.csv\",index_col=0)\n",
    "new_vina_rescore=pd.read_csv(\"vina_modified_rescores.csv\",index_col=0)"
   ]
  },
  {
   "cell_type": "code",
   "execution_count": 4,
   "metadata": {},
   "outputs": [
    {
     "data": {
      "text/plain": [
       "Index(['value', 'smiles', 'seq', 'accurate', 'pKa', 'vina_score',\n",
       "       'vina_modified_score'],\n",
       "      dtype='object')"
      ]
     },
     "execution_count": 4,
     "metadata": {},
     "output_type": "execute_result"
    }
   ],
   "source": [
    "comparison=df_final.join(vina).join(new_vina_rescore)\n",
    "comparison.columns"
   ]
  },
  {
   "cell_type": "code",
   "execution_count": 5,
   "metadata": {},
   "outputs": [],
   "source": [
    "import matplotlib.pyplot as plt\n",
    "import numpy as np\n",
    "\n",
    "from scipy.stats import spearmanr"
   ]
  },
  {
   "cell_type": "code",
   "execution_count": 10,
   "metadata": {},
   "outputs": [],
   "source": [
    "filter=comparison.accurate"
   ]
  },
  {
   "cell_type": "code",
   "execution_count": 16,
   "metadata": {},
   "outputs": [
    {
     "data": {
      "text/plain": [
       "(130, 7)"
      ]
     },
     "execution_count": 16,
     "metadata": {},
     "output_type": "execute_result"
    }
   ],
   "source": [
    "comparison.shape"
   ]
  },
  {
   "cell_type": "code",
   "execution_count": 31,
   "metadata": {},
   "outputs": [
    {
     "name": "stdout",
     "output_type": "stream",
     "text": [
      "corr 0.21833055523319173\n",
      "mae 2.5547274225836216\n",
      "bias 2.1602022424842104\n",
      "mae_no_bias 1.93283336087841\n"
     ]
    },
    {
     "data": {
      "text/plain": [
       "<matplotlib.legend.Legend at 0x7fab209ad4d0>"
      ]
     },
     "execution_count": 31,
     "metadata": {},
     "output_type": "execute_result"
    },
    {
     "data": {
      "image/png": "[encoded data removed]",
      "text/plain": [
       "<Figure size 432x288 with 1 Axes>"
      ]
     },
     "metadata": {
      "needs_background": "light"
     },
     "output_type": "display_data"
    }
   ],
   "source": [
    "xs_filtered=comparison.pKa[filter]*-1.36\n",
    "ys_filtered=comparison.vina_score[filter]\n",
    "bias=ys_filtered.mean()-xs_filtered.mean()\n",
    "\n",
    "xs=comparison.pKa*-1.36\n",
    "ys=comparison.vina_score\n",
    "\n",
    "plt.scatter(xs,ys, c=\"red\", label=\"inaccurate\")\n",
    "plt.scatter(xs_filtered,ys_filtered,label=\"accurate\")\n",
    "plt.plot([-14,-4],[-14+bias,-4+bias], \"r:\")\n",
    "corr=np.corrcoef(xs_filtered,ys_filtered)[0,1]\n",
    "mae=np.mean(np.abs(xs_filtered-ys_filtered))\n",
    "mae_no_bias=np.mean(np.abs(xs_filtered-ys_filtered+bias))\n",
    "\n",
    "print(\"corr\", corr)\n",
    "print(\"mae\", mae)\n",
    "print(\"bias\", bias)\n",
    "print(\"mae_no_bias\", mae_no_bias)\n",
    "plt.xlabel(\"experiment $\\Delta$G\")\n",
    "plt.ylabel(\"vina score (original model)\")\n",
    "plt.legend()"
   ]
  },
  {
   "cell_type": "code",
   "execution_count": 35,
   "metadata": {},
   "outputs": [
    {
     "name": "stdout",
     "output_type": "stream",
     "text": [
      "corr 0.2888701132929025\n",
      "mae 1.7439601767981538\n",
      "bias 1.0274544163972532\n",
      "mae_no_bias 1.4849228465386393\n"
     ]
    },
    {
     "data": {
      "text/plain": [
       "<matplotlib.legend.Legend at 0x7fab20359c10>"
      ]
     },
     "execution_count": 35,
     "metadata": {},
     "output_type": "execute_result"
    },
    {
     "data": {
      "image/png": "[encoded data removed]",
      "text/plain": [
       "<Figure size 432x288 with 1 Axes>"
      ]
     },
     "metadata": {
      "needs_background": "light"
     },
     "output_type": "display_data"
    }
   ],
   "source": [
    "xs=comparison.pKa[filter]*-1.36\n",
    "ys=comparison.vina_modified_score[filter]\n",
    "bias=ys.mean()-xs.mean()\n",
    "\n",
    "xs_rest=comparison.pKa[~filter]*-1.36\n",
    "ys_rest=comparison.vina_modified_score[~filter]\n",
    "\n",
    "plt.scatter(xs_rest, ys_rest,c=\"red\", label=\"inaccurate\")\n",
    "plt.scatter(xs,ys,label=\"accurate\")\n",
    "plt.plot([-14,-4],[-14+bias,-4+bias], \"r:\")\n",
    "corr=np.corrcoef(xs,ys)[0,1]\n",
    "mae=np.mean(np.abs(xs-ys))\n",
    "mae_no_bias=np.mean(np.abs(xs-ys+bias))\n",
    "\n",
    "print(\"corr\", corr)\n",
    "print(\"mae\", mae)\n",
    "print(\"bias\", bias)\n",
    "print(\"mae_no_bias\", mae_no_bias)\n",
    "\n",
    "plt.xlabel(\"experiment $\\Delta$G\")\n",
    "plt.ylabel(\"vina score (new weights)\")\n",
    "plt.legend()\n"
   ]
  },
  {
   "cell_type": "code",
   "execution_count": 14,
   "metadata": {},
   "outputs": [],
   "source": [
    "comparison[[\"vina_score\", \"vina_modified_score\"]].to_csv(\"/home/jerry/data/pdbbind/resplit_results/bindingDB/vina_bindingDB.csv\")"
   ]
  }
 ],
 "metadata": {
  "kernelspec": {
   "display_name": "analysis",
   "language": "python",
   "name": "python3"
  },
  "language_info": {
   "codemirror_mode": {
    "name": "ipython",
    "version": 3
   },
   "file_extension": ".py",
   "mimetype": "text/x-python",
   "name": "python",
   "nbconvert_exporter": "python",
   "pygments_lexer": "ipython3",
   "version": "3.7.7"
  },
  "orig_nbformat": 4
 },
 "nbformat": 4,
 "nbformat_minor": 2
}
