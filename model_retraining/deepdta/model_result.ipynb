{
 "cells": [
  {
   "cell_type": "code",
   "execution_count": null,
   "metadata": {},
   "outputs": [],
   "source": [
    "import numpy as np\n",
    "from scipy.stats import pearsonr, spearmanr\n",
    "import pandas as pd\n",
    "import matplotlib.pyplot as plt\n",
    "import glob"
   ]
  },
  {
   "cell_type": "code",
   "execution_count": null,
   "metadata": {},
   "outputs": [],
   "source": [
    "fp = 'path_to_your_data.csv'"
   ]
  },
  {
   "cell_type": "code",
   "execution_count": null,
   "metadata": {},
   "outputs": [],
   "source": [
    "df = pd.read_csv(fp)\n",
    "test_set_values = df[df['split'] == 'test']['affinity'].values"
   ]
  },
  {
   "cell_type": "code",
   "execution_count": null,
   "metadata": {},
   "outputs": [],
   "source": [
    "model_results = glob.glob('test-result*.txt')\n",
    "fig, ax = plt.subplots(len(model_results), 1, figsize=(5, 20))\n",
    "i = 0\n",
    "\n",
    "for model_result in model_results:\n",
    "    model_param = model_result.split('-')[2], model_result.split('-')[3].split('.')[0]\n",
    "    print(model_param)\n",
    "    result = np.loadtxt(model_result)\n",
    "    print(len(result), test_set_values.shape)\n",
    "    ax[i].scatter(test_set_values, result)\n",
    "    ax[i].set_title('Protein kernel: {}, Ligand kernel: {}'.format(model_param[0], model_param[1]))\n",
    "    ax[i].set_xlabel('True affinity')\n",
    "    ax[i].set_ylabel('Predicted affinity')\n",
    "    ax[i].plot([0,12], [0,12], 'k--', lw=4)\n",
    "    i += 1\n",
    "    # calculate the correlation coefficient\n",
    "    print(\"Pearson correlation coefficient: {}\".format(pearsonr(test_set_values, result)[0]))\n",
    "    print(\"Spearman correlation coefficient: {}\".format(spearmanr(test_set_values, result)[0]))\n",
    "    print(\"-\" * 20)\n",
    "\n",
    "plt.show()"
   ]
  },
  {
   "cell_type": "code",
   "execution_count": null,
   "metadata": {},
   "outputs": [],
   "source": [
    "#load a held-out test set\n",
    "\n",
    "from rdkit import Chem\n",
    "\n",
    "other_fp = 'file_to_other_data.csv'\n",
    "df2 = pd.read_csv(other_fp).dropna()"
   ]
  },
  {
   "cell_type": "code",
   "execution_count": null,
   "metadata": {},
   "outputs": [],
   "source": [
    "def convert_to_isomeric(smiles):\n",
    "    \"\"\"\n",
    "    convert a smile string to an isomeric smile string\n",
    "    \"\"\"\n",
    "    m = Chem.MolFromSmiles(smiles)\n",
    "    return Chem.MolToSmiles(m, isomericSmiles=True)"
   ]
  },
  {
   "cell_type": "code",
   "execution_count": null,
   "metadata": {},
   "outputs": [],
   "source": [
    "# convert the smiles to isomeric smiles\n",
    "df2['ligands'] = df2['smiles'].apply(convert_to_isomeric)"
   ]
  },
  {
   "cell_type": "code",
   "execution_count": null,
   "metadata": {},
   "outputs": [],
   "source": [
    "# load the best DeepDTA model to predict for these test sets\n",
    "from model import DeepDTA\n",
    "import torch, json\n",
    "from torchsummary import summary\n",
    "\n",
    "\n",
    "# convert the smiles to one-hot encoding; CHANGE TO YOUR OWN PATH OF YOUR BEST MODEL\n",
    "ligand_dict = json.load(open('ligand_dict.json'))\n",
    "protein_dict = json.load(open('protein_dict.json'))\n",
    "smilelen, seqlen = 200, 2000\n",
    "\n",
    "# load model\n",
    "model = DeepDTA(len(protein_dict)+1, len(ligand_dict)+1, 32, 8, 8)\n",
    "model.load_state_dict(torch.load('deepdta_retrain.pt'))\n",
    "model.eval()\n",
    "\n",
    "df2_result = []\n",
    "for i in range(len(df2)):\n",
    "    ligand = df2.iloc[i]['ligands']\n",
    "    protein = df2.iloc[i]['proteins']\n",
    "    protein = [protein_dict[x] for x in protein] + [protein_dict['dummy']] * (seqlen - len(protein))\n",
    "    ligand = [ligand_dict[x] for x in ligand] + [ligand_dict['dummy']] * (smilelen - len(ligand))\n",
    "    ligand = torch.tensor(ligand).unsqueeze(0)\n",
    "    protein = torch.tensor(protein).unsqueeze(0)\n",
    "    with torch.no_grad():\n",
    "        result = model(protein, ligand)\n",
    "    df2_result.append(result.item())\n",
    "\n",
    "df2_result = np.array(df2_result)\n",
    "ground_truth = df2['affinity'].values"
   ]
  },
  {
   "cell_type": "code",
   "execution_count": null,
   "metadata": {},
   "outputs": [],
   "source": [
    "plt.scatter(ground_truth, df2_result)\n",
    "plt.plot([4,8], [4,8], 'k--', lw=4)\n",
    "print(\"Pearson correlation coefficient: {}\".format(pearsonr(ground_truth, df2_result)[0]))\n",
    "print(\"Spearman correlation coefficient: {}\".format(spearmanr(ground_truth, df2_result)[0]))"
   ]
  }
 ],
 "metadata": {
  "kernelspec": {
   "display_name": "ml_dev",
   "language": "python",
   "name": "ml_dev"
  },
  "language_info": {
   "codemirror_mode": {
    "name": "ipython",
    "version": 3
   },
   "file_extension": ".py",
   "mimetype": "text/x-python",
   "name": "python",
   "nbconvert_exporter": "python",
   "pygments_lexer": "ipython3",
   "version": "3.8.16"
  },
  "orig_nbformat": 4
 },
 "nbformat": 4,
 "nbformat_minor": 2
}
