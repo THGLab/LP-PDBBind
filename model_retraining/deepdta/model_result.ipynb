{
 "cells": [
  {
   "cell_type": "code",
   "execution_count": null,
   "metadata": {},
   "outputs": [],
   "source": [
    "import numpy as np\n",
    "from scipy.stats import pearsonr, spearmanr\n",
    "import pandas as pd\n",
    "import matplotlib.pyplot as plt\n",
    "from rdkit import Chem"
   ]
  },
  {
   "cell_type": "code",
   "execution_count": null,
   "metadata": {},
   "outputs": [],
   "source": [
    "fp = 'file_to_other_data.csv'\n",
    "df = pd.read_csv(fp).dropna()"
   ]
  },
  {
   "cell_type": "code",
   "execution_count": null,
   "metadata": {},
   "outputs": [],
   "source": [
    "def convert_to_isomeric(smiles):\n",
    "    \"\"\"\n",
    "    convert a smile string to an isomeric smile string\n",
    "    \"\"\"\n",
    "    m = Chem.MolFromSmiles(smiles)\n",
    "    return Chem.MolToSmiles(m, isomericSmiles=True)"
   ]
  },
  {
   "cell_type": "code",
   "execution_count": null,
   "metadata": {},
   "outputs": [],
   "source": [
    "# convert the smiles to isomeric smiles\n",
    "df['ligands'] = df['smiles'].apply(convert_to_isomeric)"
   ]
  },
  {
   "cell_type": "code",
   "execution_count": null,
   "metadata": {},
   "outputs": [],
   "source": [
    "# load the best DeepDTA model to predict for these test sets\n",
    "from model import DeepDTA\n",
    "import torch, json\n",
    "from torchsummary import summary\n",
    "\n",
    "\n",
    "# convert the smiles to one-hot encoding; CHANGE TO YOUR OWN PATH OF YOUR BEST MODEL\n",
    "ligand_dict = json.load(open('ligand_dict.json'))\n",
    "protein_dict = json.load(open('protein_dict.json'))\n",
    "smilelen, seqlen = 200, 2000\n",
    "\n",
    "# load model\n",
    "model = DeepDTA(len(protein_dict)+1, len(ligand_dict)+1, 32, 8, 8) # change the kernel size if needed\n",
    "model.load_state_dict(torch.load('deepdta_retrain.pt'))\n",
    "model.eval()\n",
    "\n",
    "df_result = []\n",
    "for i in range(len(df)):\n",
    "    ligand = df.iloc[i]['ligands']\n",
    "    protein = df.iloc[i]['proteins']\n",
    "    protein = [protein_dict[x] for x in protein] + [protein_dict['dummy']] * (seqlen - len(protein))\n",
    "    ligand = [ligand_dict[x] for x in ligand] + [ligand_dict['dummy']] * (smilelen - len(ligand))\n",
    "    ligand = torch.tensor(ligand).unsqueeze(0)\n",
    "    protein = torch.tensor(protein).unsqueeze(0)\n",
    "    with torch.no_grad():\n",
    "        result = model(protein, ligand)\n",
    "    df_result.append(result.item())\n",
    "\n",
    "df_result = np.array(df_result)\n",
    "ground_truth = df['affinity'].values"
   ]
  },
  {
   "cell_type": "code",
   "execution_count": null,
   "metadata": {},
   "outputs": [],
   "source": [
    "plt.scatter(ground_truth, df_result)\n",
    "plt.plot([4,8], [4,8], 'k--', lw=4)\n",
    "print(\"Pearson correlation coefficient: {}\".format(pearsonr(ground_truth, df_result)[0]))\n",
    "print(\"Spearman correlation coefficient: {}\".format(spearmanr(ground_truth, df_result)[0]))"
   ]
  }
 ],
 "metadata": {
  "kernelspec": {
   "display_name": "ml_dev",
   "language": "python",
   "name": "ml_dev"
  },
  "language_info": {
   "codemirror_mode": {
    "name": "ipython",
    "version": 3
   },
   "file_extension": ".py",
   "mimetype": "text/x-python",
   "name": "python",
   "nbconvert_exporter": "python",
   "pygments_lexer": "ipython3",
   "version": "3.8.16"
  },
  "orig_nbformat": 4
 },
 "nbformat": 4,
 "nbformat_minor": 2
}
